{
 "cells": [
  {
   "cell_type": "markdown",
   "metadata": {},
   "source": [
    "### Connecting to AWS\n",
    "\n"
   ]
  },
  {
   "cell_type": "code",
   "execution_count": null,
   "metadata": {},
   "outputs": [],
   "source": [
    "import mysql.connector\n",
    "from mysql.connector import errorcode"
   ]
  },
  {
   "cell_type": "code",
   "execution_count": null,
   "metadata": {},
   "outputs": [],
   "source": [
    "cnx = mysql.connector .connect(\n",
    "    host = \n",
    "    user = \n",
    "    passwd = \n",
    ")"
   ]
  },
  {
   "cell_type": "code",
   "execution_count": null,
   "metadata": {},
   "outputs": [],
   "source": [
    "cursor = cnx.cursor()"
   ]
  },
  {
   "cell_type": "markdown",
   "metadata": {},
   "source": [
    "### Creating the Database"
   ]
  },
  {
   "cell_type": "code",
   "execution_count": null,
   "metadata": {},
   "outputs": [],
   "source": [
    "def create_database(cursor, database):\n",
    "    try:\n",
    "        cursor.execute(\n",
    "            \"CREATE DATABASE {} DEFAULT CHARACTER SET 'utf8'\".format(database))\n",
    "    except mysql.connector.Error as err:\n",
    "        print(\"Failed creating database: {}\".format(err))\n",
    "        exit(1)"
   ]
  },
  {
   "cell_type": "code",
   "execution_count": null,
   "metadata": {},
   "outputs": [],
   "source": [
    "db_name = 'yelp'"
   ]
  },
  {
   "cell_type": "code",
   "execution_count": null,
   "metadata": {},
   "outputs": [],
   "source": [
    "create_database(cursor, db_name)"
   ]
  },
  {
   "cell_type": "code",
   "execution_count": null,
   "metadata": {},
   "outputs": [],
   "source": [
    "try:\n",
    "    cursor.execute(\"USE {}\".format(db_name))\n",
    "\n",
    "except mysql.connector.Error as err:\n",
    "    print(\"Database {} does not exists.\".format(db_name))\n",
    "    if err.errno == errorcode.ER_BAD_DB_ERROR:\n",
    "        create_database(cursor, db_name)\n",
    "        print(\"Database {} created successfully.\".format(db_name))\n",
    "        cnx.database = db_name\n",
    "    else:\n",
    "        print(err)\n",
    "        exit(1)"
   ]
  },
  {
   "cell_type": "markdown",
   "metadata": {},
   "source": [
    "### Creating the Tables"
   ]
  },
  {
   "cell_type": "code",
   "execution_count": null,
   "metadata": {},
   "outputs": [],
   "source": [
    "DB_NAME = 'yelp'\n",
    "\n",
    "TABLES = {}\n",
    "TABLES['business'] = (\n",
    "    \"CREATE TABLE business (\"\n",
    "    \"  bus_id varchar(100),\"\n",
    "    \"  name varchar(100),\"\n",
    "    \"  location varchar(100),\"\n",
    "    \"  zip_code varchar(5) NOT NULL,\"\n",
    "    \"  price varchar(5),\"\n",
    "    \"  rating float,\"\n",
    "    \"  PRIMARY KEY (bus_id)\"\n",
    "    \") ENGINE=InnoDB\")\n",
    "\n",
    "TABLES['reviews'] = (\n",
    "    \"CREATE TABLE reviews (\"\n",
    "    \"  bus_id varchar(100),\"\n",
    "    \"  review_id varchar(100),\"\n",
    "    \"  description varchar(100),\"\n",
    "    \"  review_count int,\"\n",
    "    \"  rating varchar(5) NOT NULL,\"\n",
    "    \"  PRIMARY KEY (review_id)\"\n",
    "    \") ENGINE=InnoDB\")\n"
   ]
  },
  {
   "cell_type": "code",
   "execution_count": null,
   "metadata": {},
   "outputs": [],
   "source": [
    "for table_name in TABLES:\n",
    "    table_description = TABLES[table_name]\n",
    "    try:\n",
    "        print(\"Creating table {}: \".format(table_name), end='')\n",
    "        cursor.execute(table_description)\n",
    "    except mysql.connector.Error as err:\n",
    "        if err.errno == errorcode.ER_TABLE_EXISTS_ERROR:\n",
    "            print(\"already exists.\")\n",
    "        else:\n",
    "            print(err.msg)\n",
    "    else:\n",
    "        print(\"OK\")\n",
    "\n",
    "        \n",
    "cnx.commit()\n",
    "cursor.close()\n",
    "cnx.close()"
   ]
  },
  {
   "cell_type": "markdown",
   "metadata": {},
   "source": [
    "### Connecting to Yelp API for Business Information"
   ]
  },
  {
   "cell_type": "code",
   "execution_count": null,
   "metadata": {},
   "outputs": [],
   "source": [
    "import requests\n",
    "import json"
   ]
  },
  {
   "cell_type": "code",
   "execution_count": 2,
   "metadata": {},
   "outputs": [],
   "source": [
    "url = 'https://api.yelp.com/v3/businesses/search'\n",
    "lient_id = 'v2Puv78AEi2HDDvyl9K8rg'\n",
    "api_key = 'OLhy45aVXLmJtClJ75M_1KgoH85lErHLSSSSLTyyeYKb0xTey06_AdUYT3xiEa6hhkHyK-5ttHePmB2wuxIWunAzl5ykGADyj4Ct3tIxkarF14dx8bznH4C4_mHpXXYx'"
   ]
  },
  {
   "cell_type": "code",
   "execution_count": 3,
   "metadata": {},
   "outputs": [],
   "source": [
    "headers = {'Authorization': 'Bearer {}'.format(api_key),}\n",
    "term = 'Starbucks'\n",
    "location = 'Financial District'\n",
    "status = True\n",
    "limit = 50  \n"
   ]
  },
  {
   "cell_type": "code",
   "execution_count": null,
   "metadata": {},
   "outputs": [],
   "source": [
    "url_params = {\n",
    "                'term': term.replace(' ', '+'),\n",
    "                'location': location.replace(' ', '+'),\n",
    "                'open_now' : status,\n",
    "                'limit' : limit\n",
    "            }"
   ]
  },
  {
   "cell_type": "markdown",
   "metadata": {},
   "source": [
    "### Requesting Businesses from API"
   ]
  },
  {
   "cell_type": "code",
   "execution_count": null,
   "metadata": {},
   "outputs": [],
   "source": [
    "cursor.execute('''USE yelp''')"
   ]
  },
  {
   "cell_type": "code",
   "execution_count": null,
   "metadata": {},
   "outputs": [],
   "source": [
    "response = requests.get(url, headers=headers, params=url_params)\n",
    "data = response.json()\n",
    "buz_data = parse_buz(data['businesses'])"
   ]
  },
  {
   "cell_type": "markdown",
   "metadata": {},
   "source": [
    "### Parsing Business Data"
   ]
  },
  {
   "cell_type": "code",
   "execution_count": null,
   "metadata": {},
   "outputs": [],
   "source": [
    "def parse_buz(l):\n",
    "    parsed_data = []\n",
    "    for business in l:\n",
    "        try:\n",
    "            biz_tuple = (business['id'], business['name'], ' '.join(business['location']['display_address']), business['location']['zip_code'], business['price'], business['rating'])\n",
    "        except:\n",
    "            biz_tuple = (business['id'], business['name'], ' '.join(business['location']['display_address']), business['location']['zip_code'], None, business['rating'])\n",
    "        parsed_data.append(biz_tuple)\n",
    "    return parsed_data"
   ]
  },
  {
   "cell_type": "markdown",
   "metadata": {},
   "source": [
    "### Inserting Parsed Data into Business Table"
   ]
  },
  {
   "cell_type": "code",
   "execution_count": null,
   "metadata": {},
   "outputs": [],
   "source": [
    "stmt = \"\"\"INSERT INTO business (bus_id, name, location, zip_code, price, rating) VALUES (%s, %s, %s, %s, %s, %s)\"\"\"\n",
    "cursor.executemany(stmt, buz_data)\n",
    "cnx.commit()"
   ]
  },
  {
   "cell_type": "markdown",
   "metadata": {},
   "source": [
    "### Grabing All Search Results"
   ]
  },
  {
   "cell_type": "code",
   "execution_count": null,
   "metadata": {},
   "outputs": [],
   "source": [
    "cur = 0\n",
    "while cur < 1500 and cur < 1000:\n",
    "    url_params['offset'] = cur\n",
    "    results = bus_call(url_params, api_key)\n",
    "    parsed_results = parse_buz(results)\n",
    "    db_insert(parsed_results)\n",
    "    cur += 50"
   ]
  },
  {
   "cell_type": "markdown",
   "metadata": {},
   "source": [
    "### Combined Function for Business Information"
   ]
  },
  {
   "cell_type": "code",
   "execution_count": null,
   "metadata": {},
   "outputs": [],
   "source": [
    "def combined_function():\n",
    "    cur = 0\n",
    "    while cur < 1500 and cur < 1000:    \n",
    "        url_params['offset'] = cur\n",
    "        response = requests.get(url, headers=headers, params=url_params)\n",
    "        data = response.json()\n",
    "        buz_data = parse_buz(data['businesses'])\n",
    "        stmt = \"\"\"\n",
    "            INSERT INTO business (bus_id, name, location, zip_code, price, rating) VALUES (%s, %s, %s, %s, %s, %s)\n",
    "            \"\"\"\n",
    "        cursor.executemany(stmt, buz_data)\n",
    "        cnx.commit()\n",
    "        cur += 50"
   ]
  },
  {
   "cell_type": "markdown",
   "metadata": {},
   "source": [
    "### Requesting Review Data from API"
   ]
  },
  {
   "cell_type": "code",
   "execution_count": null,
   "metadata": {},
   "outputs": [],
   "source": [
    "url = 'https://api.yelp.com/v3/businesses/{id}/reviews'\n",
    "client_id = 'v2Puv78AEi2HDDvyl9K8rg'\n",
    "api_key = '-0Z90lzWTGK-FFDi95t-4bUPkgJnkWfiLGNBL2CqstzNhkgUZU_342EExhX2d-Xy1pwuXKGGX-S7qItCqTEYKnA6eNBZKGjFos_9EfbQXx0IKMtXPwa2LS1M42HpXXYx'"
   ]
  },
  {
   "cell_type": "code",
   "execution_count": null,
   "metadata": {},
   "outputs": [],
   "source": [
    "url_params_r = {'locale' : 'en_US'}\n",
    "headers = {'Authorization': 'Bearer {}'.format(api_key),}\n",
    "response = requests.get(url, headers=headers, params=url_params)"
   ]
  },
  {
   "cell_type": "markdown",
   "metadata": {},
   "source": [
    "### Obtaining List of Business ID's"
   ]
  },
  {
   "cell_type": "code",
   "execution_count": null,
   "metadata": {},
   "outputs": [],
   "source": [
    "cursor.execute('''SELECT bus_id FROM yelp.business''')\n",
    "bus_id = cursor.fetchall()"
   ]
  },
  {
   "cell_type": "markdown",
   "metadata": {},
   "source": [
    "### Parsing Review Data"
   ]
  },
  {
   "cell_type": "code",
   "execution_count": null,
   "metadata": {},
   "outputs": [],
   "source": [
    "def parse_rev(business,bus_id):\n",
    "    res_reviews = []\n",
    "    rev_tuple1 = (bus_id, business['reviews'][0]['id'], business['reviews'][0]['text'],business['total'], business['reviews'][0]['rating'])\n",
    "    rev_tuple2 = (bus_id, business['reviews'][1]['id'], business['reviews'][1]['text'],business['total'], business['reviews'][1]['rating'])\n",
    "    rev_tuple3 = (bus_id, business['reviews'][2]['id'], business['reviews'][2]['text'],business['total'], business['reviews'][2]['rating'])\n",
    "    rev_list = [rev_tuple1, rev_tuple2, rev_tuple3]\n",
    "    res_reviews.extend(rev_list)  \n",
    "    return res_reviews"
   ]
  },
  {
   "cell_type": "markdown",
   "metadata": {},
   "source": [
    "### Inserting Review Data into Table"
   ]
  },
  {
   "cell_type": "code",
   "execution_count": null,
   "metadata": {},
   "outputs": [],
   "source": [
    "stmt = \"\"\"INSERT INTO reviews (bus_id, review_id, description ,review_count, rating) VALUES (%s, %s, %s, %s, %s)\"\"\"\n",
    "cursor.executemany(stmt, parsed_data)"
   ]
  },
  {
   "cell_type": "markdown",
   "metadata": {},
   "source": [
    "### Combined Function for Review Information"
   ]
  },
  {
   "cell_type": "code",
   "execution_count": null,
   "metadata": {},
   "outputs": [],
   "source": [
    "def rev_call(bus_id):\n",
    "    review_url = f\"https://api.yelp.com/v3/businesses/{bus_id}/reviews\"\n",
    "    response1 = requests.get(review_url, headers=headers, params=url_params)\n",
    "    review = response1.json()\n",
    "    parsed_data = parse_rev(review, bus_id)\n",
    "    stmt = \"\"\"\n",
    "        INSERT INTO reviews (bus_id, review_id, description ,review_count, rating) VALUES (%s, %s, %s, %s, %s)\n",
    "        \"\"\"\n",
    "    cursor.executemany(stmt, parsed_data)\n",
    "    cnx.commit()"
   ]
  },
  {
   "cell_type": "code",
   "execution_count": null,
   "metadata": {},
   "outputs": [],
   "source": [
    "for i in range(0,len(bus_id)):\n",
    "    try:\n",
    "        rev_call(bus_id[i][0])\n",
    "    except:\n",
    "        continue\n",
    "        "
   ]
  }
 ],
 "metadata": {
  "kernelspec": {
   "display_name": "Python 3",
   "language": "python",
   "name": "python3"
  },
  "language_info": {
   "codemirror_mode": {
    "name": "ipython",
    "version": 3
   },
   "file_extension": ".py",
   "mimetype": "text/x-python",
   "name": "python",
   "nbconvert_exporter": "python",
   "pygments_lexer": "ipython3",
   "version": "3.7.4"
  }
 },
 "nbformat": 4,
 "nbformat_minor": 2
}
