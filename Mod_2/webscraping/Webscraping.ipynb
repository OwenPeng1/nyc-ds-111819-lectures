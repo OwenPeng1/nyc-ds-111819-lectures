{
 "cells": [
  {
   "cell_type": "markdown",
   "metadata": {},
   "source": [
    "# Python Web Scraping Tutorial using BeautifulSoup"
   ]
  },
  {
   "cell_type": "markdown",
   "metadata": {},
   "source": [
    "**Web scraping** is a technique used to extract data from websites using a script. It is the way to automate the laborious work of copying data from various websites. Web Scraping is generally performed in the cases when the desirable websites don't expose the API for fetching the data. In order to understand how to scrape a web page, we must first understand a bit about how web pages are built. "
   ]
  },
  {
   "cell_type": "markdown",
   "metadata": {},
   "source": [
    "## The components of a web page\n"
   ]
  },
  {
   "cell_type": "markdown",
   "metadata": {},
   "source": [
    "When we visit a web page, our web browser makes a GET request to a web server. The server then sends back files that tell our browser how to render the page for us. The files fall into a few main types:\n",
    "\n",
    "- HTML — contain the main content of the page.\n",
    "- CSS — add styling to make the page look nicer.\n",
    "- JS — Javascript files add interactivity to web pages.\n",
    "- Images — image formats, such as JPG and PNG allow web pages to show pictures.\n",
    "\n",
    "After our browser receives all the files, it renders the page and displays it to us. There’s a lot that happens behind the scenes to render a page nicely, but we don’t need to worry about most of it when we’re web scraping."
   ]
  },
  {
   "cell_type": "markdown",
   "metadata": {},
   "source": [
    "### HTML\n",
    "\n",
    "\n",
    "HyperText Markup Language (HTML) is a language that web pages are created in. HTML isn’t a programming language, like Python — instead, it’s a markup language that tells a browser how to layout content. \n",
    "\n",
    "Let’s take a quick tour through HTML so we know enough to scrape effectively. HTML consists of elements called tags. The most basic tag is the `<html>` tag. This tag tells the web browser that everything inside of it is HTML. We can make a simple HTML document just using this tag:\n",
    "\n",
    "~~~\n",
    "<html>\n",
    "</html>\n",
    "~~~"
   ]
  },
  {
   "cell_type": "markdown",
   "metadata": {},
   "source": [
    "<html>\n",
    "</html>"
   ]
  },
  {
   "cell_type": "markdown",
   "metadata": {},
   "source": [
    "Right inside an html tag, we put two other tags, the head tag, and the body tag. The main content of the web page goes into the body tag. The head tag contains data about the title of the page, and other information that generally isn’t useful in web scraping:\n",
    "\n",
    "~~~\n",
    "<html>\n",
    "    <head>\n",
    "    </head>\n",
    "    <body>\n",
    "    </body>\n",
    "</html>\n",
    "~~~"
   ]
  },
  {
   "cell_type": "markdown",
   "metadata": {},
   "source": [
    "We’ll now add our first content to the page, in the form of the p tag. The p tag defines a paragraph, and any text inside the tag is shown as a separate paragraph:\n",
    "~~~\n",
    "<html>\n",
    "    <head>\n",
    "    </head>\n",
    "    <body>\n",
    "          <p>\n",
    "            Here's a paragraph of text!\n",
    "        </p>\n",
    "        <p>\n",
    "            Here's a second paragraph of text!\n",
    "        </p>\n",
    "    </body>\n",
    "</html>\n",
    "~~~"
   ]
  },
  {
   "cell_type": "markdown",
   "metadata": {},
   "source": [
    "<html>\n",
    "    <head>\n",
    "    </head>\n",
    "    <body>\n",
    "          <p>\n",
    "            Here's a paragraph of text!\n",
    "        </p>\n",
    "        <p>\n",
    "            Here's a second paragraph of text!\n",
    "        </p>\n",
    "    </body>\n",
    "</html>"
   ]
  },
  {
   "cell_type": "markdown",
   "metadata": {},
   "source": [
    "Tags have commonly used names that depend on their position in relation to other tags:\n",
    "\n",
    "- **child** — a child is a tag inside another tag. So the two p tags above are both children of the body tag.\n",
    "- **parent** — a parent is the tag another tag is inside. Above, the html tag is the parent of the body tag.\n",
    "- **sibiling** — a sibiling is a tag that is nested inside the same parent as another tag. For example, head and body are siblings, since they’re both inside html. Both p tags are siblings, since they’re both inside body."
   ]
  },
  {
   "cell_type": "markdown",
   "metadata": {},
   "source": [
    "We can also add properties to HTML tags that change their behavior:\n",
    "\n",
    "~~~\n",
    "<html>\n",
    "  <head>\n",
    "  </head>\n",
    "    <body>\n",
    "      <p>\n",
    "        Here's a paragraph of text!\n",
    "        <a href=\"https://www.dataquest.io\">Learn Data Science Online</a>\n",
    "        </p>\n",
    "        <p>\n",
    "          Here's a second paragraph of text!\n",
    "          <a href=\"https://www.python.org\">Python</a>        \n",
    "        </p>\n",
    "    </body>\n",
    "</html>\n",
    "~~~"
   ]
  },
  {
   "cell_type": "markdown",
   "metadata": {},
   "source": [
    "<html>\n",
    "    <head>\n",
    "    </head>\n",
    "    <body>\n",
    "        <p>\n",
    "            Here's a paragraph of text!\n",
    "            <a href=\"https://www.dataquest.io\">Learn Data Science Online</a>\n",
    "        </p>\n",
    "        <p>\n",
    "            Here's a second paragraph of text!\n",
    "            <a href=\"https://www.python.org\">Python</a>        </p>\n",
    "    </body></html>"
   ]
  },
  {
   "cell_type": "markdown",
   "metadata": {},
   "source": [
    "In the above example, we added two a tags. a tags are links, and tell the browser to render a link to another web page. The href property of the tag determines where the link goes.\n",
    "\n",
    "a and p are extremely common html tags. Here are a few others:\n",
    "\n",
    "- *div* — indicates a division, or area, of the page.\n",
    "- *b* — bolds any text inside.\n",
    "- *i* — italicizes any text inside.\n",
    "- *table* — creates a table.\n",
    "- *form* — creates an input form.\n",
    "\n",
    "\n",
    "For a full list of tags, look [here](https://developer.mozilla.org/en-US/docs/Web/HTML/Element)."
   ]
  },
  {
   "cell_type": "markdown",
   "metadata": {},
   "source": [
    "There are two special properties give HTML elements names, and make them easier to interact with when we’re scraping, **class** and **id** properties. \n",
    "\n",
    "- One element can have multiple classes, and a class can be shared between elements. \n",
    "- Each element can only have one id, and an id can only be used once on a page. \n",
    "- Classes and ids are optional, and not all elements will have them.\n",
    "\n",
    "We can add classes and ids to our example:\n",
    "\n",
    "<html>\n",
    "    <head>\n",
    "    </head>\n",
    "    <body>\n",
    "        <p class=\"bold-paragraph\">\n",
    "            Here's a paragraph of text!\n",
    "            <a href=\"https://www.dataquest.io\" id=\"learn-link\">Learn Data Science Online</a>\n",
    "        </p>\n",
    "        <p class=\"bold-paragraph extra-large\">\n",
    "            Here's a second paragraph of text!\n",
    "            <a href=\"https://www.python.org\" class=\"extra-large\">Python</a>\n",
    "        </p>\n",
    "    </body>\n",
    "</html>"
   ]
  },
  {
   "cell_type": "markdown",
   "metadata": {},
   "source": [
    "<html>\n",
    "    <head>\n",
    "    </head>\n",
    "    <body>\n",
    "        <p class=\"bold-paragraph\">\n",
    "            Here's a paragraph of text!\n",
    "            <a href=\"https://www.dataquest.io\" id=\"learn-link\">Learn Data Science Online</a>\n",
    "        </p>\n",
    "        <p class=\"bold-paragraph extra-large\">\n",
    "            Here's a second paragraph of text!\n",
    "            <a href=\"https://www.python.org\" class=\"extra-large\">Python</a>\n",
    "        </p>\n",
    "    </body>\n",
    "</html>"
   ]
  },
  {
   "cell_type": "markdown",
   "metadata": {},
   "source": [
    "## Apply this knowledge\n",
    "\n",
    "Let's go to a webpage and change some of the HTML to see what happens. \n",
    "\n",
    "- Open up a webpage in Chrome.\n",
    "- Right click and 'inspect element.\n",
    "\n",
    "- Change the text in a tag.\n",
    "- Change the class of a tag.\n",
    "- Find a tag with an ID and remove it.\n",
    "\n"
   ]
  },
  {
   "cell_type": "markdown",
   "metadata": {},
   "source": [
    "## Webscraping with Python"
   ]
  },
  {
   "cell_type": "markdown",
   "metadata": {},
   "source": [
    "### The requests library\n",
    "The first thing we’ll need to do to scrape a web page is to grab the html of thepage. We can get this by using the Python `requests` library."
   ]
  },
  {
   "cell_type": "code",
   "execution_count": 1,
   "metadata": {},
   "outputs": [
    {
     "data": {
      "text/plain": [
       "<Response [200]>"
      ]
     },
     "execution_count": 1,
     "metadata": {},
     "output_type": "execute_result"
    }
   ],
   "source": [
    "import requests\n",
    "page = requests.get(\"http://dataquestio.github.io/web-scraping-pages/simple.html\")\n",
    "page"
   ]
  },
  {
   "cell_type": "markdown",
   "metadata": {},
   "source": [
    "After running our request, we get a Response object. This object has a status_code property, which indicates if the page was downloaded successfully:"
   ]
  },
  {
   "cell_type": "code",
   "execution_count": 2,
   "metadata": {},
   "outputs": [
    {
     "data": {
      "text/plain": [
       "200"
      ]
     },
     "execution_count": 2,
     "metadata": {},
     "output_type": "execute_result"
    }
   ],
   "source": [
    "page.status_code\n"
   ]
  },
  {
   "cell_type": "markdown",
   "metadata": {},
   "source": [
    "We can print out the HTML content of the page using the content property:"
   ]
  },
  {
   "cell_type": "code",
   "execution_count": 3,
   "metadata": {},
   "outputs": [
    {
     "data": {
      "text/plain": [
       "b'<!DOCTYPE html>\\n<html>\\n    <head>\\n        <title>A simple example page</title>\\n    </head>\\n    <body>\\n        <p>Here is some simple content for this page.</p>\\n    </body>\\n</html>'"
      ]
     },
     "execution_count": 3,
     "metadata": {},
     "output_type": "execute_result"
    }
   ],
   "source": [
    "page.content"
   ]
  },
  {
   "cell_type": "markdown",
   "metadata": {},
   "source": [
    "### Parsing a page with BeautifulSoup\n",
    "\n",
    "We can use the BeautifulSoup library to parse this document, and extract the text from the `<p>` tag. "
   ]
  },
  {
   "cell_type": "code",
   "execution_count": 4,
   "metadata": {},
   "outputs": [
    {
     "data": {
      "text/plain": [
       "<!DOCTYPE html>\n",
       "\n",
       "<html>\n",
       "<head>\n",
       "<title>A simple example page</title>\n",
       "</head>\n",
       "<body>\n",
       "<p>Here is some simple content for this page.</p>\n",
       "</body>\n",
       "</html>"
      ]
     },
     "execution_count": 4,
     "metadata": {},
     "output_type": "execute_result"
    }
   ],
   "source": [
    "from bs4 import BeautifulSoup\n",
    "soup = BeautifulSoup(page.content, 'html.parser')\n",
    "soup"
   ]
  },
  {
   "cell_type": "code",
   "execution_count": 5,
   "metadata": {},
   "outputs": [
    {
     "name": "stdout",
     "output_type": "stream",
     "text": [
      "<!DOCTYPE html>\n",
      "<html>\n",
      " <head>\n",
      "  <title>\n",
      "   A simple example page\n",
      "  </title>\n",
      " </head>\n",
      " <body>\n",
      "  <p>\n",
      "   Here is some simple content for this page.\n",
      "  </p>\n",
      " </body>\n",
      "</html>\n"
     ]
    }
   ],
   "source": [
    "print(soup.prettify())\n"
   ]
  },
  {
   "cell_type": "markdown",
   "metadata": {},
   "source": [
    "As all the tags are nested, we can move through the structure one level at a time. We can first select all the elements at the top level of the page using the `children` property of `soup`."
   ]
  },
  {
   "cell_type": "code",
   "execution_count": 6,
   "metadata": {},
   "outputs": [
    {
     "data": {
      "text/plain": [
       "['html', '\\n', <html>\n",
       " <head>\n",
       " <title>A simple example page</title>\n",
       " </head>\n",
       " <body>\n",
       " <p>Here is some simple content for this page.</p>\n",
       " </body>\n",
       " </html>]"
      ]
     },
     "execution_count": 6,
     "metadata": {},
     "output_type": "execute_result"
    }
   ],
   "source": [
    "list(soup.children)\n",
    "#the elements of a list are separated by commas, so only have three elements in this list"
   ]
  },
  {
   "cell_type": "markdown",
   "metadata": {},
   "source": [
    "The above tells us that there are two tags at the top level of the page — the initial `<!DOCTYPE html>` tag, and the `<html>` tag. There is a newline character `(\\n)` in the list as well. Let’s see what the type of each element in the list is:"
   ]
  },
  {
   "cell_type": "code",
   "execution_count": 7,
   "metadata": {},
   "outputs": [
    {
     "data": {
      "text/plain": [
       "[bs4.element.Doctype, bs4.element.NavigableString, bs4.element.Tag]"
      ]
     },
     "execution_count": 7,
     "metadata": {},
     "output_type": "execute_result"
    }
   ],
   "source": [
    "[type(item) for item in list(soup.children)]\n"
   ]
  },
  {
   "cell_type": "markdown",
   "metadata": {},
   "source": [
    "The `Tag` object allows us to navigate through an HTML document, and extract other tags and text. You can learn more about the various `BeautifulSoup` objects [here](https://www.crummy.com/software/BeautifulSoup/bs4/doc/#kinds-of-objects).\n",
    "\n",
    "We can now select the html tag and its children by taking the third item in the list:\n",
    "\n"
   ]
  },
  {
   "cell_type": "code",
   "execution_count": 9,
   "metadata": {},
   "outputs": [
    {
     "data": {
      "text/plain": [
       "<html>\n",
       "<head>\n",
       "<title>A simple example page</title>\n",
       "</head>\n",
       "<body>\n",
       "<p>Here is some simple content for this page.</p>\n",
       "</body>\n",
       "</html>"
      ]
     },
     "execution_count": 9,
     "metadata": {},
     "output_type": "execute_result"
    }
   ],
   "source": [
    "html = list(soup.children)[2]\n",
    "html\n"
   ]
  },
  {
   "cell_type": "markdown",
   "metadata": {},
   "source": [
    "Each item in the list returned by the `children` property is also a `BeautifulSoup` object, so we can also call the `children` method on `html`.\n",
    "\n",
    "Now, we can find the `children` inside the `html` tag:"
   ]
  },
  {
   "cell_type": "code",
   "execution_count": 9,
   "metadata": {},
   "outputs": [
    {
     "data": {
      "text/plain": [
       "['\\n', <head>\n",
       " <title>A simple example page</title>\n",
       " </head>, '\\n', <body>\n",
       " <p>Here is some simple content for this page.</p>\n",
       " </body>, '\\n']"
      ]
     },
     "execution_count": 9,
     "metadata": {},
     "output_type": "execute_result"
    }
   ],
   "source": [
    "list(html.children)\n"
   ]
  },
  {
   "cell_type": "markdown",
   "metadata": {},
   "source": [
    "As you can see above, there are two tags here, `head`, and `body`. We want to extract the text inside the `p` tag, so we’ll dive into the body:"
   ]
  },
  {
   "cell_type": "code",
   "execution_count": 10,
   "metadata": {},
   "outputs": [],
   "source": [
    "body = list(html.children)[3]\n"
   ]
  },
  {
   "cell_type": "markdown",
   "metadata": {},
   "source": [
    "We can now isolate the `p` tag:\n",
    "\n"
   ]
  },
  {
   "cell_type": "code",
   "execution_count": 11,
   "metadata": {},
   "outputs": [],
   "source": [
    "p = list(body.children)[1]\n"
   ]
  },
  {
   "cell_type": "markdown",
   "metadata": {},
   "source": [
    "Once we’ve isolated the tag, we can use the `get_text` method to extract all of the text inside the tag:"
   ]
  },
  {
   "cell_type": "code",
   "execution_count": 12,
   "metadata": {},
   "outputs": [
    {
     "data": {
      "text/plain": [
       "'Here is some simple content for this page.'"
      ]
     },
     "execution_count": 12,
     "metadata": {},
     "output_type": "execute_result"
    }
   ],
   "source": [
    "p.get_text()\n"
   ]
  },
  {
   "cell_type": "markdown",
   "metadata": {},
   "source": [
    "### Finding all instances of a tag at once\n",
    "\n",
    "If we want to extract a single tag, we can instead use the find_all method, which will find all the instances of a tag on a page."
   ]
  },
  {
   "cell_type": "code",
   "execution_count": 10,
   "metadata": {},
   "outputs": [
    {
     "data": {
      "text/plain": [
       "[<p>Here is some simple content for this page.</p>]"
      ]
     },
     "execution_count": 10,
     "metadata": {},
     "output_type": "execute_result"
    }
   ],
   "source": [
    "soup = BeautifulSoup(page.content, 'html.parser')\n",
    "soup.find_all('p')"
   ]
  },
  {
   "cell_type": "markdown",
   "metadata": {},
   "source": [
    "Note that `find_all` returns a list, so we’ll have to loop through, or use list indexing, it to extract text:"
   ]
  },
  {
   "cell_type": "code",
   "execution_count": 11,
   "metadata": {},
   "outputs": [
    {
     "data": {
      "text/plain": [
       "[<p>Here is some simple content for this page.</p>]"
      ]
     },
     "execution_count": 11,
     "metadata": {},
     "output_type": "execute_result"
    }
   ],
   "source": [
    "soup.find_all('p')"
   ]
  },
  {
   "cell_type": "markdown",
   "metadata": {},
   "source": [
    "If you instead only want to find the first instance of a tag, you can use the `find` method, which will return a single `BeautifulSoup` object:"
   ]
  },
  {
   "cell_type": "code",
   "execution_count": 12,
   "metadata": {},
   "outputs": [
    {
     "data": {
      "text/plain": [
       "<p>Here is some simple content for this page.</p>"
      ]
     },
     "execution_count": 12,
     "metadata": {},
     "output_type": "execute_result"
    }
   ],
   "source": [
    "soup.find('p')\n"
   ]
  },
  {
   "cell_type": "markdown",
   "metadata": {},
   "source": [
    "### Searching for tags by class and id\n",
    "\n",
    "\n",
    "We introduced classes and ids earlier, but it probably wasn’t clear why they were useful. Classes and ids are used by CSS to determine which HTML elements to apply certain styles to. We can also use them when scraping to specify specific elements we want to scrape. Let's look at the following page:\n",
    "\n",
    "~~~\n",
    "<html>\n",
    "    <head>\n",
    "        <title>A simple example page</title>\n",
    "    </head>\n",
    "    <body>\n",
    "        <div>\n",
    "            <p class=\"inner-text first-item\" id=\"first\">\n",
    "                First paragraph.\n",
    "            </p>\n",
    "            <p class=\"inner-text\">\n",
    "                Second paragraph.\n",
    "            </p>\n",
    "        </div>\n",
    "        <p class=\"outer-text first-item\" id=\"second\">\n",
    "            <b>\n",
    "                First outer paragraph.\n",
    "            </b>\n",
    "        </p>\n",
    "        <p class=\"outer-text\">\n",
    "            <b>\n",
    "                Second outer paragraph.\n",
    "            </b>\n",
    "        </p>\n",
    "    </body>\n",
    "</html>\n",
    "~~~"
   ]
  },
  {
   "cell_type": "code",
   "execution_count": 45,
   "metadata": {},
   "outputs": [
    {
     "data": {
      "text/plain": [
       "<!DOCTYPE html>\n",
       "\n",
       "<html lang=\"en\" ng-app=\"stats\" ng-strict-di=\"\" stats-build-date=\"2019-12-05 05:11 PM\" stats-version=\"4.23.0\" xmlns:ng=\"http://angularjs.org\">\n",
       "<head>\n",
       "<meta charset=\"utf-8\"/>\n",
       "<meta content=\"IE=Edge,chrome=1\" http-equiv=\"X-UA-Compatible\"/><script type=\"text/javascript\">(window.NREUM||(NREUM={})).loader_config={xpid:\"VQECWF5UChAHUlNTBwgBVw==\",licenseKey:\"09f0cb5c68\",applicationID:\"76210961\"};window.NREUM||(NREUM={}),__nr_require=function(t,n,e){function r(e){if(!n[e]){var o=n[e]={exports:{}};t[e][0].call(o.exports,function(n){var o=t[e][1][n];return r(o||n)},o,o.exports)}return n[e].exports}if(\"function\"==typeof __nr_require)return __nr_require;for(var o=0;o<e.length;o++)r(e[o]);return r}({1:[function(t,n,e){function r(t){try{s.console&&console.log(t)}catch(n){}}var o,i=t(\"ee\"),a=t(20),s={};try{o=localStorage.getItem(\"__nr_flags\").split(\",\"),console&&\"function\"==typeof console.log&&(s.console=!0,o.indexOf(\"dev\")!==-1&&(s.dev=!0),o.indexOf(\"nr_dev\")!==-1&&(s.nrDev=!0))}catch(c){}s.nrDev&&i.on(\"internal-error\",function(t){r(t.stack)}),s.dev&&i.on(\"fn-err\",function(t,n,e){r(e.stack)}),s.dev&&(r(\"NR AGENT IN DEVELOPMENT MODE\"),r(\"flags: \"+a(s,function(t,n){return t}).join(\", \")))},{}],2:[function(t,n,e){function r(t,n,e,r,s){try{p?p-=1:o(s||new UncaughtException(t,n,e),!0)}catch(f){try{i(\"ierr\",[f,c.now(),!0])}catch(d){}}return\"function\"==typeof u&&u.apply(this,a(arguments))}function UncaughtException(t,n,e){this.message=t||\"Uncaught error with no additional information\",this.sourceURL=n,this.line=e}function o(t,n){var e=n?null:c.now();i(\"err\",[t,e])}var i=t(\"handle\"),a=t(21),s=t(\"ee\"),c=t(\"loader\"),f=t(\"gos\"),u=window.onerror,d=!1,l=\"nr@seenError\",p=0;c.features.err=!0,t(1),window.onerror=r;try{throw new Error}catch(h){\"stack\"in h&&(t(9),t(8),\"addEventListener\"in window&&t(5),c.xhrWrappable&&t(10),d=!0)}s.on(\"fn-start\",function(t,n,e){d&&(p+=1)}),s.on(\"fn-err\",function(t,n,e){d&&!e[l]&&(f(e,l,function(){return!0}),this.thrown=!0,o(e))}),s.on(\"fn-end\",function(){d&&!this.thrown&&p>0&&(p-=1)}),s.on(\"internal-error\",function(t){i(\"ierr\",[t,c.now(),!0])})},{}],3:[function(t,n,e){t(\"loader\").features.ins=!0},{}],4:[function(t,n,e){function r(t){}if(window.performance&&window.performance.timing&&window.performance.getEntriesByType){var o=t(\"ee\"),i=t(\"handle\"),a=t(9),s=t(8),c=\"learResourceTimings\",f=\"addEventListener\",u=\"resourcetimingbufferfull\",d=\"bstResource\",l=\"resource\",p=\"-start\",h=\"-end\",m=\"fn\"+p,w=\"fn\"+h,v=\"bstTimer\",g=\"pushState\",y=t(\"loader\");y.features.stn=!0,t(7),\"addEventListener\"in window&&t(5);var x=NREUM.o.EV;o.on(m,function(t,n){var e=t[0];e instanceof x&&(this.bstStart=y.now())}),o.on(w,function(t,n){var e=t[0];e instanceof x&&i(\"bst\",[e,n,this.bstStart,y.now()])}),a.on(m,function(t,n,e){this.bstStart=y.now(),this.bstType=e}),a.on(w,function(t,n){i(v,[n,this.bstStart,y.now(),this.bstType])}),s.on(m,function(){this.bstStart=y.now()}),s.on(w,function(t,n){i(v,[n,this.bstStart,y.now(),\"requestAnimationFrame\"])}),o.on(g+p,function(t){this.time=y.now(),this.startPath=location.pathname+location.hash}),o.on(g+h,function(t){i(\"bstHist\",[location.pathname+location.hash,this.startPath,this.time])}),f in window.performance&&(window.performance[\"c\"+c]?window.performance[f](u,function(t){i(d,[window.performance.getEntriesByType(l)]),window.performance[\"c\"+c]()},!1):window.performance[f](\"webkit\"+u,function(t){i(d,[window.performance.getEntriesByType(l)]),window.performance[\"webkitC\"+c]()},!1)),document[f](\"scroll\",r,{passive:!0}),document[f](\"keypress\",r,!1),document[f](\"click\",r,!1)}},{}],5:[function(t,n,e){function r(t){for(var n=t;n&&!n.hasOwnProperty(u);)n=Object.getPrototypeOf(n);n&&o(n)}function o(t){s.inPlace(t,[u,d],\"-\",i)}function i(t,n){return t[1]}var a=t(\"ee\").get(\"events\"),s=t(\"wrap-function\")(a,!0),c=t(\"gos\"),f=XMLHttpRequest,u=\"addEventListener\",d=\"removeEventListener\";n.exports=a,\"getPrototypeOf\"in Object?(r(document),r(window),r(f.prototype)):f.prototype.hasOwnProperty(u)&&(o(window),o(f.prototype)),a.on(u+\"-start\",function(t,n){var e=t[1],r=c(e,\"nr@wrapped\",function(){function t(){if(\"function\"==typeof e.handleEvent)return e.handleEvent.apply(e,arguments)}var n={object:t,\"function\":e}[typeof e];return n?s(n,\"fn-\",null,n.name||\"anonymous\"):e});this.wrapped=t[1]=r}),a.on(d+\"-start\",function(t){t[1]=this.wrapped||t[1]})},{}],6:[function(t,n,e){function r(t,n,e){var r=t[n];\"function\"==typeof r&&(t[n]=function(){var t=i(arguments),n={};o.emit(e+\"before-start\",[t],n);var a;n[m]&&n[m].dt&&(a=n[m].dt);var s=r.apply(this,t);return o.emit(e+\"start\",[t,a],s),s.then(function(t){return o.emit(e+\"end\",[null,t],s),t},function(t){throw o.emit(e+\"end\",[t],s),t})})}var o=t(\"ee\").get(\"fetch\"),i=t(21),a=t(20);n.exports=o;var s=window,c=\"fetch-\",f=c+\"body-\",u=[\"arrayBuffer\",\"blob\",\"json\",\"text\",\"formData\"],d=s.Request,l=s.Response,p=s.fetch,h=\"prototype\",m=\"nr@context\";d&&l&&p&&(a(u,function(t,n){r(d[h],n,f),r(l[h],n,f)}),r(s,\"fetch\",c),o.on(c+\"end\",function(t,n){var e=this;if(n){var r=n.headers.get(\"content-length\");null!==r&&(e.rxSize=r),o.emit(c+\"done\",[null,n],e)}else o.emit(c+\"done\",[t],e)}))},{}],7:[function(t,n,e){var r=t(\"ee\").get(\"history\"),o=t(\"wrap-function\")(r);n.exports=r;var i=window.history&&window.history.constructor&&window.history.constructor.prototype,a=window.history;i&&i.pushState&&i.replaceState&&(a=i),o.inPlace(a,[\"pushState\",\"replaceState\"],\"-\")},{}],8:[function(t,n,e){var r=t(\"ee\").get(\"raf\"),o=t(\"wrap-function\")(r),i=\"equestAnimationFrame\";n.exports=r,o.inPlace(window,[\"r\"+i,\"mozR\"+i,\"webkitR\"+i,\"msR\"+i],\"raf-\"),r.on(\"raf-start\",function(t){t[0]=o(t[0],\"fn-\")})},{}],9:[function(t,n,e){function r(t,n,e){t[0]=a(t[0],\"fn-\",null,e)}function o(t,n,e){this.method=e,this.timerDuration=isNaN(t[1])?0:+t[1],t[0]=a(t[0],\"fn-\",this,e)}var i=t(\"ee\").get(\"timer\"),a=t(\"wrap-function\")(i),s=\"setTimeout\",c=\"setInterval\",f=\"clearTimeout\",u=\"-start\",d=\"-\";n.exports=i,a.inPlace(window,[s,\"setImmediate\"],s+d),a.inPlace(window,[c],c+d),a.inPlace(window,[f,\"clearImmediate\"],f+d),i.on(c+u,r),i.on(s+u,o)},{}],10:[function(t,n,e){function r(t,n){d.inPlace(n,[\"onreadystatechange\"],\"fn-\",s)}function o(){var t=this,n=u.context(t);t.readyState>3&&!n.resolved&&(n.resolved=!0,u.emit(\"xhr-resolved\",[],t)),d.inPlace(t,g,\"fn-\",s)}function i(t){y.push(t),h&&(b?b.then(a):w?w(a):(E=-E,R.data=E))}function a(){for(var t=0;t<y.length;t++)r([],y[t]);y.length&&(y=[])}function s(t,n){return n}function c(t,n){for(var e in t)n[e]=t[e];return n}t(5);var f=t(\"ee\"),u=f.get(\"xhr\"),d=t(\"wrap-function\")(u),l=NREUM.o,p=l.XHR,h=l.MO,m=l.PR,w=l.SI,v=\"readystatechange\",g=[\"onload\",\"onerror\",\"onabort\",\"onloadstart\",\"onloadend\",\"onprogress\",\"ontimeout\"],y=[];n.exports=u;var x=window.XMLHttpRequest=function(t){var n=new p(t);try{u.emit(\"new-xhr\",[n],n),n.addEventListener(v,o,!1)}catch(e){try{u.emit(\"internal-error\",[e])}catch(r){}}return n};if(c(p,x),x.prototype=p.prototype,d.inPlace(x.prototype,[\"open\",\"send\"],\"-xhr-\",s),u.on(\"send-xhr-start\",function(t,n){r(t,n),i(n)}),u.on(\"open-xhr-start\",r),h){var b=m&&m.resolve();if(!w&&!m){var E=1,R=document.createTextNode(E);new h(a).observe(R,{characterData:!0})}}else f.on(\"fn-end\",function(t){t[0]&&t[0].type===v||a()})},{}],11:[function(t,n,e){function r(){var t=window.NREUM;if(!t.loader_config)return null;var n=(t.loader_config.accountID||\"\").toString()||null,e=(t.loader_config.agentID||\"\").toString()||null,r=(t.loader_config.trustKey||\"\").toString()||null;if(!n||!e)return null;var a=i.generateCatId(),s=i.generateCatId(),c=Date.now(),f=o(a,s,c,n,e,r);return{header:f,guid:a,traceId:s,timestamp:c}}function o(t,n,e,r,o,i){var a=\"btoa\"in window&&\"function\"==typeof window.btoa;if(!a)return null;var s={v:[0,1],d:{ty:\"Browser\",ac:r,ap:o,id:t,tr:n,ti:e}};return i&&r!==i&&(s.d.tk=i),btoa(JSON.stringify(s))}var i=t(18);n.exports={generateTracePayload:r,generateTraceHeader:o}},{}],12:[function(t,n,e){function r(t){var n=this.params,e=this.metrics;if(!this.ended){this.ended=!0;for(var r=0;r<p;r++)t.removeEventListener(l[r],this.listener,!1);n.aborted||(e.duration=s.now()-this.startTime,this.loadCaptureCalled||4!==t.readyState?null==n.status&&(n.status=0):a(this,t),e.cbTime=this.cbTime,d.emit(\"xhr-done\",[t],t),c(\"xhr\",[n,e,this.startTime]))}}function o(t,n){var e=t.responseType;if(\"json\"===e&&null!==n)return n;var r=\"arraybuffer\"===e||\"blob\"===e||\"json\"===e?t.response:t.responseText;return w(r)}function i(t,n){var e=f(n),r=t.params;r.host=e.hostname+\":\"+e.port,r.pathname=e.pathname,t.sameOrigin=e.sameOrigin}function a(t,n){t.params.status=n.status;var e=o(n,t.lastSize);if(e&&(t.metrics.rxSize=e),t.sameOrigin){var r=n.getResponseHeader(\"X-NewRelic-App-Data\");r&&(t.params.cat=r.split(\", \").pop())}t.loadCaptureCalled=!0}var s=t(\"loader\");if(s.xhrWrappable){var c=t(\"handle\"),f=t(13),u=t(11).generateTracePayload,d=t(\"ee\"),l=[\"load\",\"error\",\"abort\",\"timeout\"],p=l.length,h=t(\"id\"),m=t(16),w=t(15),v=window.XMLHttpRequest;s.features.xhr=!0,t(10),t(6),d.on(\"new-xhr\",function(t){var n=this;n.totalCbs=0,n.called=0,n.cbTime=0,n.end=r,n.ended=!1,n.xhrGuids={},n.lastSize=null,n.loadCaptureCalled=!1,t.addEventListener(\"load\",function(e){a(n,t)},!1),m&&(m>34||m<10)||window.opera||t.addEventListener(\"progress\",function(t){n.lastSize=t.loaded},!1)}),d.on(\"open-xhr-start\",function(t){this.params={method:t[0]},i(this,t[1]),this.metrics={}}),d.on(\"open-xhr-end\",function(t,n){\"loader_config\"in NREUM&&\"xpid\"in NREUM.loader_config&&this.sameOrigin&&n.setRequestHeader(\"X-NewRelic-ID\",NREUM.loader_config.xpid);var e=!1;if(\"init\"in NREUM&&\"distributed_tracing\"in NREUM.init&&(e=!!NREUM.init.distributed_tracing.enabled),e&&this.sameOrigin){var r=u();r&&r.header&&(n.setRequestHeader(\"newrelic\",r.header),this.dt=r)}}),d.on(\"send-xhr-start\",function(t,n){var e=this.metrics,r=t[0],o=this;if(e&&r){var i=w(r);i&&(e.txSize=i)}this.startTime=s.now(),this.listener=function(t){try{\"abort\"!==t.type||o.loadCaptureCalled||(o.params.aborted=!0),(\"load\"!==t.type||o.called===o.totalCbs&&(o.onloadCalled||\"function\"!=typeof n.onload))&&o.end(n)}catch(e){try{d.emit(\"internal-error\",[e])}catch(r){}}};for(var a=0;a<p;a++)n.addEventListener(l[a],this.listener,!1)}),d.on(\"xhr-cb-time\",function(t,n,e){this.cbTime+=t,n?this.onloadCalled=!0:this.called+=1,this.called!==this.totalCbs||!this.onloadCalled&&\"function\"==typeof e.onload||this.end(e)}),d.on(\"xhr-load-added\",function(t,n){var e=\"\"+h(t)+!!n;this.xhrGuids&&!this.xhrGuids[e]&&(this.xhrGuids[e]=!0,this.totalCbs+=1)}),d.on(\"xhr-load-removed\",function(t,n){var e=\"\"+h(t)+!!n;this.xhrGuids&&this.xhrGuids[e]&&(delete this.xhrGuids[e],this.totalCbs-=1)}),d.on(\"addEventListener-end\",function(t,n){n instanceof v&&\"load\"===t[0]&&d.emit(\"xhr-load-added\",[t[1],t[2]],n)}),d.on(\"removeEventListener-end\",function(t,n){n instanceof v&&\"load\"===t[0]&&d.emit(\"xhr-load-removed\",[t[1],t[2]],n)}),d.on(\"fn-start\",function(t,n,e){n instanceof v&&(\"onload\"===e&&(this.onload=!0),(\"load\"===(t[0]&&t[0].type)||this.onload)&&(this.xhrCbStart=s.now()))}),d.on(\"fn-end\",function(t,n){this.xhrCbStart&&d.emit(\"xhr-cb-time\",[s.now()-this.xhrCbStart,this.onload,n],n)}),d.on(\"fetch-before-start\",function(t){var n,e=t[1]||{};\"string\"==typeof t[0]?n=t[0]:t[0]&&t[0].url&&(n=t[0].url),n&&(this.sameOrigin=f(n).sameOrigin);var r=!1;if(\"init\"in NREUM&&\"distributed_tracing\"in NREUM.init&&(r=!!NREUM.init.distributed_tracing.enabled),r&&this.sameOrigin){var o=u();if(!o||!o.header)return;var i=o.header;if(\"string\"==typeof t[0]){var a={};for(var s in e)a[s]=e[s];a.headers=new Headers(e.headers||{}),a.headers.set(\"newrelic\",i),this.dt=o,t.length>1?t[1]=a:t.push(a)}else t[0]&&t[0].headers&&(t[0].headers.append(\"newrelic\",i),this.dt=o)}})}},{}],13:[function(t,n,e){n.exports=function(t){var n=document.createElement(\"a\"),e=window.location,r={};n.href=t,r.port=n.port;var o=n.href.split(\"://\");!r.port&&o[1]&&(r.port=o[1].split(\"/\")[0].split(\"@\").pop().split(\":\")[1]),r.port&&\"0\"!==r.port||(r.port=\"https\"===o[0]?\"443\":\"80\"),r.hostname=n.hostname||e.hostname,r.pathname=n.pathname,r.protocol=o[0],\"/\"!==r.pathname.charAt(0)&&(r.pathname=\"/\"+r.pathname);var i=!n.protocol||\":\"===n.protocol||n.protocol===e.protocol,a=n.hostname===document.domain&&n.port===e.port;return r.sameOrigin=i&&(!n.hostname||a),r}},{}],14:[function(t,n,e){function r(){}function o(t,n,e){return function(){return i(t,[f.now()].concat(s(arguments)),n?null:this,e),n?void 0:this}}var i=t(\"handle\"),a=t(20),s=t(21),c=t(\"ee\").get(\"tracer\"),f=t(\"loader\"),u=NREUM;\"undefined\"==typeof window.newrelic&&(newrelic=u);var d=[\"setPageViewName\",\"setCustomAttribute\",\"setErrorHandler\",\"finished\",\"addToTrace\",\"inlineHit\",\"addRelease\"],l=\"api-\",p=l+\"ixn-\";a(d,function(t,n){u[n]=o(l+n,!0,\"api\")}),u.addPageAction=o(l+\"addPageAction\",!0),u.setCurrentRouteName=o(l+\"routeName\",!0),n.exports=newrelic,u.interaction=function(){return(new r).get()};var h=r.prototype={createTracer:function(t,n){var e={},r=this,o=\"function\"==typeof n;return i(p+\"tracer\",[f.now(),t,e],r),function(){if(c.emit((o?\"\":\"no-\")+\"fn-start\",[f.now(),r,o],e),o)try{return n.apply(this,arguments)}catch(t){throw c.emit(\"fn-err\",[arguments,this,t],e),t}finally{c.emit(\"fn-end\",[f.now()],e)}}}};a(\"actionText,setName,setAttribute,save,ignore,onEnd,getContext,end,get\".split(\",\"),function(t,n){h[n]=o(p+n)}),newrelic.noticeError=function(t,n){\"string\"==typeof t&&(t=new Error(t)),i(\"err\",[t,f.now(),!1,n])}},{}],15:[function(t,n,e){n.exports=function(t){if(\"string\"==typeof t&&t.length)return t.length;if(\"object\"==typeof t){if(\"undefined\"!=typeof ArrayBuffer&&t instanceof ArrayBuffer&&t.byteLength)return t.byteLength;if(\"undefined\"!=typeof Blob&&t instanceof Blob&&t.size)return t.size;if(!(\"undefined\"!=typeof FormData&&t instanceof FormData))try{return JSON.stringify(t).length}catch(n){return}}}},{}],16:[function(t,n,e){var r=0,o=navigator.userAgent.match(/Firefox[\\/\\s](\\d+\\.\\d+)/);o&&(r=+o[1]),n.exports=r},{}],17:[function(t,n,e){function r(t,n){var e=t.getEntries();e.forEach(function(t){\"first-paint\"===t.name?a(\"timing\",[\"fp\",Math.floor(t.startTime)]):\"first-contentful-paint\"===t.name&&a(\"timing\",[\"fcp\",Math.floor(t.startTime)])})}function o(t){if(t instanceof c&&!u){var n,e=Math.round(t.timeStamp);n=e>1e12?Date.now()-e:s.now()-e,u=!0,a(\"timing\",[\"fi\",e,{type:t.type,fid:n}])}}if(!(\"init\"in NREUM&&\"page_view_timing\"in NREUM.init&&\"enabled\"in NREUM.init.page_view_timing&&NREUM.init.page_view_timing.enabled===!1)){var i,a=t(\"handle\"),s=t(\"loader\"),c=NREUM.o.EV;if(\"PerformanceObserver\"in window&&\"function\"==typeof window.PerformanceObserver){i=new PerformanceObserver(r);try{i.observe({entryTypes:[\"paint\"]})}catch(f){}}if(\"addEventListener\"in document){var u=!1,d=[\"click\",\"keydown\",\"mousedown\",\"pointerdown\",\"touchstart\"];d.forEach(function(t){document.addEventListener(t,o,!1)})}}},{}],18:[function(t,n,e){function r(){function t(){return n?15&n[e++]:16*Math.random()|0}var n=null,e=0,r=window.crypto||window.msCrypto;r&&r.getRandomValues&&(n=r.getRandomValues(new Uint8Array(31)));for(var o,i=\"xxxxxxxx-xxxx-4xxx-yxxx-xxxxxxxxxxxx\",a=\"\",s=0;s<i.length;s++)o=i[s],\"x\"===o?a+=t().toString(16):\"y\"===o?(o=3&t()|8,a+=o.toString(16)):a+=o;return a}function o(){function t(){return n?15&n[e++]:16*Math.random()|0}var n=null,e=0,r=window.crypto||window.msCrypto;r&&r.getRandomValues&&Uint8Array&&(n=r.getRandomValues(new Uint8Array(31)));for(var o=[],i=0;i<16;i++)o.push(t().toString(16));return o.join(\"\")}n.exports={generateUuid:r,generateCatId:o}},{}],19:[function(t,n,e){function r(t,n){if(!o)return!1;if(t!==o)return!1;if(!n)return!0;if(!i)return!1;for(var e=i.split(\".\"),r=n.split(\".\"),a=0;a<r.length;a++)if(r[a]!==e[a])return!1;return!0}var o=null,i=null,a=/Version\\/(\\S+)\\s+Safari/;if(navigator.userAgent){var s=navigator.userAgent,c=s.match(a);c&&s.indexOf(\"Chrome\")===-1&&s.indexOf(\"Chromium\")===-1&&(o=\"Safari\",i=c[1])}n.exports={agent:o,version:i,match:r}},{}],20:[function(t,n,e){function r(t,n){var e=[],r=\"\",i=0;for(r in t)o.call(t,r)&&(e[i]=n(r,t[r]),i+=1);return e}var o=Object.prototype.hasOwnProperty;n.exports=r},{}],21:[function(t,n,e){function r(t,n,e){n||(n=0),\"undefined\"==typeof e&&(e=t?t.length:0);for(var r=-1,o=e-n||0,i=Array(o<0?0:o);++r<o;)i[r]=t[n+r];return i}n.exports=r},{}],22:[function(t,n,e){n.exports={exists:\"undefined\"!=typeof window.performance&&window.performance.timing&&\"undefined\"!=typeof window.performance.timing.navigationStart}},{}],ee:[function(t,n,e){function r(){}function o(t){function n(t){return t&&t instanceof r?t:t?c(t,s,i):i()}function e(e,r,o,i){if(!l.aborted||i){t&&t(e,r,o);for(var a=n(o),s=m(e),c=s.length,f=0;f<c;f++)s[f].apply(a,r);var d=u[y[e]];return d&&d.push([x,e,r,a]),a}}function p(t,n){g[t]=m(t).concat(n)}function h(t,n){var e=g[t];if(e)for(var r=0;r<e.length;r++)e[r]===n&&e.splice(r,1)}function m(t){return g[t]||[]}function w(t){return d[t]=d[t]||o(e)}function v(t,n){f(t,function(t,e){n=n||\"feature\",y[e]=n,n in u||(u[n]=[])})}var g={},y={},x={on:p,addEventListener:p,removeEventListener:h,emit:e,get:w,listeners:m,context:n,buffer:v,abort:a,aborted:!1};return x}function i(){return new r}function a(){(u.api||u.feature)&&(l.aborted=!0,u=l.backlog={})}var s=\"nr@context\",c=t(\"gos\"),f=t(20),u={},d={},l=n.exports=o();l.backlog=u},{}],gos:[function(t,n,e){function r(t,n,e){if(o.call(t,n))return t[n];var r=e();if(Object.defineProperty&&Object.keys)try{return Object.defineProperty(t,n,{value:r,writable:!0,enumerable:!1}),r}catch(i){}return t[n]=r,r}var o=Object.prototype.hasOwnProperty;n.exports=r},{}],handle:[function(t,n,e){function r(t,n,e,r){o.buffer([t],r),o.emit(t,n,e)}var o=t(\"ee\").get(\"handle\");n.exports=r,r.ee=o},{}],id:[function(t,n,e){function r(t){var n=typeof t;return!t||\"object\"!==n&&\"function\"!==n?-1:t===window?0:a(t,i,function(){return o++})}var o=1,i=\"nr@id\",a=t(\"gos\");n.exports=r},{}],loader:[function(t,n,e){function r(){if(!E++){var t=b.info=NREUM.info,n=p.getElementsByTagName(\"script\")[0];if(setTimeout(u.abort,3e4),!(t&&t.licenseKey&&t.applicationID&&n))return u.abort();f(y,function(n,e){t[n]||(t[n]=e)}),c(\"mark\",[\"onload\",a()+b.offset],null,\"api\");var e=p.createElement(\"script\");e.src=\"https://\"+t.agent,n.parentNode.insertBefore(e,n)}}function o(){\"complete\"===p.readyState&&i()}function i(){c(\"mark\",[\"domContent\",a()+b.offset],null,\"api\")}function a(){return R.exists&&performance.now?Math.round(performance.now()):(s=Math.max((new Date).getTime(),s))-b.offset}var s=(new Date).getTime(),c=t(\"handle\"),f=t(20),u=t(\"ee\"),d=t(19),l=window,p=l.document,h=\"addEventListener\",m=\"attachEvent\",w=l.XMLHttpRequest,v=w&&w.prototype;NREUM.o={ST:setTimeout,SI:l.setImmediate,CT:clearTimeout,XHR:w,REQ:l.Request,EV:l.Event,PR:l.Promise,MO:l.MutationObserver};var g=\"\"+location,y={beacon:\"bam.nr-data.net\",errorBeacon:\"bam.nr-data.net\",agent:\"js-agent.newrelic.com/nr-1153.min.js\"},x=w&&v&&v[h]&&!/CriOS/.test(navigator.userAgent),b=n.exports={offset:s,now:a,origin:g,features:{},xhrWrappable:x,userAgent:d};t(14),t(17),p[h]?(p[h](\"DOMContentLoaded\",i,!1),l[h](\"load\",r,!1)):(p[m](\"onreadystatechange\",o),l[m](\"onload\",r)),c(\"mark\",[\"firstbyte\",s],null,\"api\");var E=0,R=t(22)},{}],\"wrap-function\":[function(t,n,e){function r(t){return!(t&&t instanceof Function&&t.apply&&!t[a])}var o=t(\"ee\"),i=t(21),a=\"nr@original\",s=Object.prototype.hasOwnProperty,c=!1;n.exports=function(t,n){function e(t,n,e,o){function nrWrapper(){var r,a,s,c;try{a=this,r=i(arguments),s=\"function\"==typeof e?e(r,a):e||{}}catch(f){l([f,\"\",[r,a,o],s])}u(n+\"start\",[r,a,o],s);try{return c=t.apply(a,r)}catch(d){throw u(n+\"err\",[r,a,d],s),d}finally{u(n+\"end\",[r,a,c],s)}}return r(t)?t:(n||(n=\"\"),nrWrapper[a]=t,d(t,nrWrapper),nrWrapper)}function f(t,n,o,i){o||(o=\"\");var a,s,c,f=\"-\"===o.charAt(0);for(c=0;c<n.length;c++)s=n[c],a=t[s],r(a)||(t[s]=e(a,f?s+o:o,i,s))}function u(e,r,o){if(!c||n){var i=c;c=!0;try{t.emit(e,r,o,n)}catch(a){l([a,e,r,o])}c=i}}function d(t,n){if(Object.defineProperty&&Object.keys)try{var e=Object.keys(t);return e.forEach(function(e){Object.defineProperty(n,e,{get:function(){return t[e]},set:function(n){return t[e]=n,n}})}),n}catch(r){l([r])}for(var o in t)s.call(t,o)&&(n[o]=t[o]);return n}function l(n){try{t.emit(\"internal-error\",n)}catch(e){}}return t||(t=o),e.inPlace=f,e.flag=a,e}},{}]},{},[\"loader\",2,12,4,3]);</script>\n",
       "<title>NBA.com/Stats  | Milwaukee Bucks </title>\n",
       "<meta content=\"width=device-width, initial-scale=1.0\" name=\"viewport\"/>\n",
       "<meta content=\"Milwaukee Bucks Official NBA Stats, Game Logs, Boxscores, Shotcharts and Videos\" name=\"description\">\n",
       "<link href=\"https://stats.nba.com/team/1610612749/\" rel=\"canonical\"/>\n",
       "<base href=\"/team/1610612749/\"/>\n",
       "<meta content=\"https://stats.nba.com/team/1610612749/\" property=\"og:url\">\n",
       "<meta content=\"website\" property=\"og:type\">\n",
       "<meta content=\"NBA Stats\" property=\"og:site_name\"/>\n",
       "<meta content=\"Milwaukee Bucks\" property=\"og:title\"/>\n",
       "<meta content=\"Milwaukee Bucks Official NBA Stats, Game Logs, Boxscores, Shotcharts and Videos\" property=\"og:description\"/>\n",
       "<meta content=\"https://stats.nba.com/media/img/teams/logos/season/2018-19/MIL_logo.svg\" property=\"og:image\"/>\n",
       "<meta content=\"Basketball\" property=\"og:sport\"/>\n",
       "<meta content=\"NBA\" property=\"og:sports_league\"/>\n",
       "<meta content=\"Milwaukee Bucks\" property=\"og:sports_team\"/>\n",
       "<meta content=\"no\" name=\"msapplication-tap-highlight\"/>\n",
       "<link href=\"/manifest.json\" rel=\"manifest\"/>\n",
       "<meta content=\"#1a477b\" name=\"theme-color\"/>\n",
       "<meta content=\"yes\" name=\"mobile-web-app-capable\"/>\n",
       "<meta content=\"NBA Stats\" name=\"application-name\"/>\n",
       "<meta content=\"yes\" name=\"apple-mobile-web-app-capable\"/>\n",
       "<meta content=\"NBA Stats\" name=\"apple-mobile-web-app-title\"/>\n",
       "<link href=\"/media/img/touch/stats-icon-152x152.png\" rel=\"icon\" sizes=\"152x152\"/>\n",
       "<link href=\"/media/img/touch/stats-icon-128x128.png\" rel=\"apple-touch-icon\">\n",
       "<link href=\"/favicon.png\" rel=\"shortcut icon\">\n",
       "<link href=\"https://fonts.googleapis.com/css?family=Roboto:400,500,700|Roboto+Condensed\" rel=\"stylesheet\"/>\n",
       "<link href=\"/styles/theme.min.css\" rel=\"stylesheet\" type=\"text/css\"/>\n",
       "<script>window.nbaStatsRoute = '/team/1610612749/';</script>\n",
       "</link></link></meta></meta></meta></head>\n",
       "<body>\n",
       "<header id=\"header-ad\">\n",
       "<div id=\"ad_bnr_atf_01\"></div>\n",
       "<div id=\"ad_mod_92f78ded2\"></div>\n",
       "</header>\n",
       "<div class=\"[ show-for-large ] turner-nav\">\n",
       "<script>\n",
       "  function getTChannelName() {\n",
       "    var base = \"stats.nba.com:\";\n",
       "    var cpath = location.pathname.replace(/#/g, \"\").replace(/\\/$/, \"\").replace(/\\//gi, ':');\n",
       "\n",
       "    if (cpath === \"\" || cpath === \":\") {\n",
       "      cpath = \"main\";\n",
       "    } else {\n",
       "      cpath = cpath.split(':')[1];\n",
       "    }\n",
       "\n",
       "    return base + cpath;\n",
       "  }\n",
       "\n",
       "  function getPageName(pkg) {\n",
       "    var base = \"\";\n",
       "    var cpath = \"\";\n",
       "\n",
       "    if (pkg === \"t\") {\n",
       "      base = \"stats.nba.com:\";\n",
       "      cpath = location.pathname.replace(/#/g, \"\").replace(/\\/$/, \"\");\n",
       "\n",
       "      return base + cpath + \"/\";\n",
       "    } else if (pkg === \"n\") {\n",
       "      base = \"us:stats\";\n",
       "      cpath = location.pathname.replace(/#/g, \"\").replace(/\\/$/, \"\").replace(/\\//gi, ':');\n",
       "\n",
       "      if (cpath.includes(\"scores\") && !cpath.includes(\"boxscores\")) {\n",
       "        var splitPath = cpath.split(\":\");\n",
       "        cpath = \":\" + splitPath[1] + \":\" + splitPath.slice(-3).join('');\n",
       "      }\n",
       "\n",
       "      if (cpath === \"\" || cpath === \":\") {\n",
       "        cpath = \":main\";\n",
       "      }\n",
       "\n",
       "      return base + cpath;\n",
       "    } else {\n",
       "      return null;\n",
       "    }\n",
       "  }\n",
       "\n",
       "  // hardcode the aam_uuid cookie to the data layer\n",
       "  function getUUID(cookies) {\n",
       "    if (cookies) {\n",
       "      for (var i = 0; i < cookies.split(';').length; i++) {\n",
       "        var cookie = cookies[i];\n",
       "        if (cookie.indexOf('aam_uuid') !== -1) {\n",
       "          return cookie.split('=')[1];\n",
       "        }\n",
       "      }\n",
       "    }\n",
       "\n",
       "    return '';\n",
       "  }\n",
       "\n",
       "  var tChannelName = getTChannelName();\n",
       "  var tPageName = getPageName(\"t\");\n",
       "  var nPageName = getPageName(\"n\");\n",
       "  var uuid = getUUID(document.cookie);\n",
       "\n",
       "  // write initial page on load object\n",
       "  window.digitalData = {\n",
       "    tPageName: tPageName,\n",
       "    nPageName: nPageName,\n",
       "    tChannel: tChannelName,\n",
       "    nChannel: tChannelName,\n",
       "    registeredUser: \"\",\n",
       "    page: {\n",
       "      pageInfo: {\n",
       "        uuid: uuid\n",
       "      }\n",
       "    }\n",
       "  };\n",
       "</script>\n",
       "<script async=\"\" src=\"//assets.adobedtm.com/82bf3c13a525/b5e58b6c6c1d/launch-2f679d51e1bb.min.js\"></script>\n",
       "<script src=\"//agility.nba.com/turner/nba-prod/Bootstrap.js\"></script>\n",
       "<div class=\"turner-nav__inner\">\n",
       "<div class=\"turner-nav__logo\">\n",
       "<a href=\"http://www.nba.com\"><img alt=\"NBA Logo\" class=\"turner-nav__logo-img\" src=\"/media/img/league/nba-logoman-word-white.svg\" title=\"NBA\"/></a>\n",
       "</div>\n",
       "<ul class=\"turner-nav__left\" role=\"navigation\">\n",
       "<li class=\"turner-nav__menu-item\"><a href=\"https://stats.nba.com/scores\"><span>Scores</span></a></li>\n",
       "<li class=\"turner-nav__menu-item\"><a href=\"https://stats.nba.com/schedule/\"><span>Schedule</span></a></li>\n",
       "<li class=\"turner-nav__menu-item\"><a href=\"https://www.nba.com/news\"><span>News</span></a></li>\n",
       "<li class=\"turner-nav__menu-item\"><a href=\"https://www.nba.com/video\"><span>Video</span></a></li>\n",
       "<li class=\"turner-nav__menu-item\"><a href=\"https://www.nba.com/standings\"><span>Standings</span></a></li>\n",
       "<li class=\"turner-nav__menu-item\"><a href=\"https://stats.nba.com\"><span>Stats</span></a></li>\n",
       "<li class=\"turner-nav__menu-item\"><a href=\"https://stats.nba.com/players/\"><span>Players</span></a></li>\n",
       "<li class=\"turner-nav__menu-item\"><a href=\"https://stats.nba.com/teams/\"><span>Teams</span></a></li>\n",
       "</ul>\n",
       "<ul class=\"turner-nav__right\" role=\"navigation\">\n",
       "<li class=\"turner-nav__menu-item\"><a href=\"https://www.nba.com/leaguepass\" title=\"NBA League Pass\"><span>NBA LEAGUE PASS</span></a></li>\n",
       "<li class=\"turner-nav__menu-item\"><a href=\"https://www.nba.com/global/storelinkhandler.html\" title=\"NBA Store\"><span>Store</span></a></li>\n",
       "<li class=\"turner-nav__menu-item\"><a href=\"http://nbatickets.nba.com/\" title=\"NBA Tickets\"><span>Tickets</span></a></li>\n",
       "</ul>\n",
       "</div>\n",
       "</div>\n",
       "<div class=\"stats-subheader [ show-for-large ]\">\n",
       "<div class=\"sap-flag [ show-for-sap ]\">\n",
       "<div class=\"sap-flag__inner sap-flag__inner--strong\">\n",
       "<img alt=\"NBA Advanced Stats site wordmark\" class=\"stats-subheader__brand-logo\" src=\"/media/img/league/nba-advanced-stats-logo.svg\" title=\"NBA Advanced Stats\">\n",
       "<a class=\"sap-flag__link\" href=\"\"><img class=\"sap-flag__image\" src=\"/media/img/sap_header_v6.svg\"/></a>\n",
       "</img></div>\n",
       "</div>\n",
       "</div>\n",
       "<main class=\"stats-container\">\n",
       "<nav class=\"stats-dropdown\" ng-cloak=\"\" ng-controller=\"StatsNavController\" ng-show=\"showSiteNavigation\">\n",
       "<section class=\"dropdown__base\">\n",
       "<div class=\"dropdown__item\">\n",
       "<h4 class=\"dropdown__item-header\">\n",
       "<a class=\"dropdown__item-header__link\" href=\"/\">Stats Home</a>\n",
       "</h4>\n",
       "</div>\n",
       "<!-- players: open -->\n",
       "<div class=\"dropdown__category--active\" ng-show=\"isPlayerSection\">\n",
       "<div class=\"dropdown__item\" ng-click=\"toggleActiveMenu('player')\">\n",
       "<h4 class=\"dropdown__item-header\">\n",
       "<a class=\"dropdown__item-header__link\">{{ player.name }} <i aria-hidden=\"true\" class=\"dropdown__item-header__arrow [ fa / fa-chevron-right / show-for-large ]\"></i><i aria-hidden=\"true\" class=\"dropdown__item-header__arrow [ fa / fa-chevron-down / hide-for-large ]\"></i></a>\n",
       "</h4>\n",
       "</div>\n",
       "</div>\n",
       "<section class=\"dropdown__category\" ng-show=\"isActiveMenu.player\">\n",
       "<ul class=\"dropdown__category-list\">\n",
       "<li ng-if=\"player.sections.stats\"><a href=\"/player/{{ player.id }}/\" ng-click=\"toggleNav();\">Profile</a></li>\n",
       "<!-- <li ng-if=\"player.sections.current\"><a href=\"/player/{{ player.id }}/fantasy/\" ng-click=\"toggleNav();\">Fantasy</a></li> -->\n",
       "<li ng-if=\"player.sections.stats\"><a href=\"/player/{{ player.id }}/traditional/\" ng-click=\"toggleNav();\">Traditional</a></li>\n",
       "<li ng-if=\"player.sections.stats\"><a href=\"/player/{{ player.id }}/advanced/\" ng-click=\"toggleNav();\">Advanced</a></li>\n",
       "<li ng-if=\"player.sections.stats\"><a href=\"/player/{{ player.id }}/misc/\" ng-click=\"toggleNav();\">Misc</a></li>\n",
       "<li ng-if=\"player.sections.stats\"><a href=\"/player/{{ player.id }}/scoring/\" ng-click=\"toggleNav();\">Scoring</a></li>\n",
       "<li ng-if=\"player.sections.stats\"><a href=\"/player/{{ player.id }}/usage/\" ng-click=\"toggleNav();\">Usage</a></li>\n",
       "<li ng-if=\"player.sections.stats\"><a href=\"/player/{{ player.id }}/shooting/\" ng-click=\"toggleNav();\">Shooting</a></li>\n",
       "<li><a href=\"/player/{{ player.id }}/career/\">Career</a></li>\n",
       "<li ng-if=\"player.sections.boxscores &amp;&amp; player.sections.boxscoreFlag&gt;=2\"><a href=\"/player/{{ player.id }}/boxscores/\" ng-click=\"toggleNav();\">Box Scores</a></li>\n",
       "<li ng-if=\"player.sections.boxscores &amp;&amp; player.sections.boxscoreFlag&lt;=2\"><a href=\"/player/{{ player.id }}/boxscores-traditional/\" ng-click=\"toggleNav();\">Advanced Box Scores Traditional</a></li>\n",
       "<li ng-if=\"player.sections.boxscores &amp;&amp; player.sections.boxscoreFlag&lt;=2\"><a href=\"/player/{{ player.id }}/boxscores-advanced/\" ng-click=\"toggleNav();\">Advanced Box Scores Advanced</a></li>\n",
       "<li ng-if=\"player.sections.boxscores &amp;&amp; player.sections.boxscoreFlag&lt;=2\"><a href=\"/player/{{ player.id }}/boxscores-misc/\" ng-click=\"toggleNav();\">Advanced Box Scores Misc</a></li>\n",
       "<li ng-if=\"player.sections.boxscores &amp;&amp; player.sections.boxscoreFlag&lt;=2\"><a href=\"/player/{{ player.id }}/boxscores-scoring/\" ng-click=\"toggleNav();\">Advanced Box Scores Scoring</a></li>\n",
       "<li ng-if=\"player.sections.boxscores &amp;&amp; player.sections.boxscoreFlag&lt;=2\"><a href=\"/player/{{ player.id }}/boxscores-usage/\" ng-click=\"toggleNav();\">Advanced Box Scores Usage</a></li>\n",
       "<li ng-if=\"player.sections.tracking\"><a href=\"/player/{{ player.id }}/shots-dash/\" ng-click=\"toggleNav();\">Shots Dashboard</a></li>\n",
       "<li ng-if=\"player.sections.tracking\"><a href=\"/player/{{ player.id }}/rebounds-dash/\" ng-click=\"toggleNav();\">Rebounds Dashboard</a></li>\n",
       "<li ng-if=\"player.sections.tracking\"><a href=\"/player/{{ player.id }}/passes-dash/\" ng-click=\"toggleNav();\">Passes Dashboard</a></li>\n",
       "<li ng-if=\"player.sections.tracking\"><a href=\"/player/{{ player.id }}/defense-dash/\" ng-click=\"toggleNav();\">Defense Dashboard</a></li>\n",
       "</ul>\n",
       "</section>\n",
       "<!-- teams: open -->\n",
       "<div class=\"dropdown__category--active\" ng-show=\"isTeamSection\">\n",
       "<div class=\"dropdown__item\" ng-click=\"toggleActiveMenu('team')\">\n",
       "<h4 class=\"dropdown__item-header\">\n",
       "<a class=\"dropdown__item-header__link\">{{ team.city }} {{ team.name }} <i aria-hidden=\"true\" class=\"dropdown__item-header__arrow [ fa / fa-chevron-right / show-for-large ]\"></i><i aria-hidden=\"true\" class=\"dropdown__item-header__arrow [ fa / fa-chevron-down / hide-for-large ]\"></i></a>\n",
       "</h4>\n",
       "</div>\n",
       "</div>\n",
       "<section class=\"dropdown__category\" ng-show=\"isActiveMenu.team\">\n",
       "<ul class=\"dropdown__category-list\">\n",
       "<li><a href=\"/team/{{ team.id }}/\" ng-click=\"toggleNav();\">Profile</a></li>\n",
       "<li ng-if=\"!team.isSpecial\"><a href=\"/team/{{ team.id }}/traditional/\" ng-click=\"toggleNav();\">Traditional</a></li>\n",
       "<li ng-if=\"!team.isSpecial\"><a href=\"/team/{{ team.id }}/advanced/\" ng-click=\"toggleNav();\">Advanced</a></li>\n",
       "<li ng-if=\"!team.isSpecial\"><a href=\"/team/{{ team.id }}/four-factors/\" ng-click=\"toggleNav();\">Four Factors</a></li>\n",
       "<li ng-if=\"!team.isSpecial\"><a href=\"/team/{{ team.id }}/misc/\" ng-click=\"toggleNav();\">Misc</a></li>\n",
       "<li ng-if=\"!team.isSpecial\"><a href=\"/team/{{ team.id }}/scoring/\" ng-click=\"toggleNav();\">Scoring</a></li>\n",
       "<li ng-if=\"!team.isSpecial\"><a href=\"/team/{{ team.id }}/opponent/\" ng-click=\"toggleNav();\">Opponent</a></li>\n",
       "<li ng-if=\"!team.isSpecial\"><a href=\"/team/{{ team.id }}/shooting/\" ng-click=\"toggleNav();\">Shooting</a></li>\n",
       "<!-- lineups -->\n",
       "<li ng-if=\"!team.isSpecial\"><a href=\"/team/{{ team.id }}/lineups-traditional/\" ng-click=\"toggleNav();\">Lineups Traditional</a></li>\n",
       "<li ng-if=\"!team.isSpecial\"><a href=\"/team/{{ team.id }}/lineups-advanced/\" ng-click=\"toggleNav();\">Lineups Advanced</a></li>\n",
       "<li ng-if=\"!team.isSpecial\"><a href=\"/team/{{ team.id }}/lineups-four-factors/\" ng-click=\"toggleNav();\">Lineups Four Factors</a></li>\n",
       "<li ng-if=\"!team.isSpecial\"><a href=\"/team/{{ team.id }}/lineups-misc/\" ng-click=\"toggleNav();\">Lineups Misc</a></li>\n",
       "<li ng-if=\"!team.isSpecial\"><a href=\"/team/{{ team.id }}/lineups-scoring/\" ng-click=\"toggleNav();\">Lineups Scoring</a></li>\n",
       "<li ng-if=\"!team.isSpecial\"><a href=\"/team/{{ team.id }}/lineups-opponent/\" ng-click=\"toggleNav();\">Lineups Opponent</a></li>\n",
       "<!-- players -->\n",
       "<li ng-if=\"!team.isSpecial\"><a href=\"/team/{{ team.id }}/players-traditional/\" ng-click=\"toggleNav();\">Players Traditional</a></li>\n",
       "<li ng-if=\"!team.isSpecial\"><a href=\"/team/{{ team.id }}/players-advanced/\" ng-click=\"toggleNav();\">Players Advanced</a></li>\n",
       "<li ng-if=\"!team.isSpecial\"><a href=\"/team/{{ team.id }}/players-misc/\" ng-click=\"toggleNav();\">Players Misc</a></li>\n",
       "<li ng-if=\"!team.isSpecial\"><a href=\"/team/{{ team.id }}/players-scoring/\" ng-click=\"toggleNav();\">Players Scoring</a></li>\n",
       "<li ng-if=\"!team.isSpecial\"><a href=\"/team/{{ team.id }}/players-usage/\" ng-click=\"toggleNav();\">Players Usage</a></li>\n",
       "<!-- on off court -->\n",
       "<li ng-if=\"!team.isSpecial\"><a href=\"/team/{{ team.id }}/onoffcourt-traditional/\" ng-click=\"toggleNav();\">On/Off Court Traditional</a></li>\n",
       "<li ng-if=\"!team.isSpecial\"><a href=\"/team/{{ team.id }}/onoffcourt-advanced/\" ng-click=\"toggleNav();\">On/Off Court Advanced</a></li>\n",
       "<li ng-if=\"!team.isSpecial\"><a href=\"/team/{{ team.id }}/onoffcourt-four-factors/\" ng-click=\"toggleNav();\">On/Off Court Four Factors</a></li>\n",
       "<li ng-if=\"!team.isSpecial\"><a href=\"/team/{{ team.id }}/onoffcourt-misc/\" ng-click=\"toggleNav();\">On/Off Court Misc</a></li>\n",
       "<li ng-if=\"!team.isSpecial\"><a href=\"/team/{{ team.id }}/onoffcourt-scoring/\" ng-click=\"toggleNav();\">On/Off Court Scoring</a></li>\n",
       "<li ng-if=\"!team.isSpecial\"><a href=\"/team/{{ team.id }}/onoffcourt-opponent/\" ng-click=\"toggleNav();\">On/Off Court Opponent</a></li>\n",
       "<li ng-if=\"!team.isSpecial\"><a href=\"/team/{{ team.id }}/onoffcourt-summary/\" ng-click=\"toggleNav();\">On/Off Court Summary</a></li>\n",
       "<!-- tracking -->\n",
       "<li ng-if=\"!team.isSpecial\"><a href=\"/team/{{ team.id }}/shots-dash/\" ng-click=\"toggleNav();\">Shots Dashboard</a></li>\n",
       "<li ng-if=\"!team.isSpecial\"><a href=\"/team/{{ team.id }}/rebounds-dash/\" ng-click=\"toggleNav();\">Rebounds Dashboard</a></li>\n",
       "<li ng-if=\"!team.isSpecial\"><a href=\"/team/{{ team.id }}/passes-dash/\" ng-click=\"toggleNav();\">Passes Dashboard</a></li>\n",
       "<!-- history -->\n",
       "<li><a href=\"/team/{{ team.id }}/boxscores/\" ng-click=\"toggleNav();\">Box Scores</a></li>\n",
       "<li ng-if=\"!team.isSpecial\"><a href=\"/team/{{ team.id }}/boxscores-traditional/\" ng-click=\"toggleNav();\">Advanced Box Scores Traditional</a></li>\n",
       "<li ng-if=\"!team.isSpecial\"><a href=\"/team/{{ team.id }}/boxscores-advanced/\" ng-click=\"toggleNav();\">Advanced Box Scores Advanced</a></li>\n",
       "<li ng-if=\"!team.isSpecial\"><a href=\"/team/{{ team.id }}/boxscores-four-factors/\" ng-click=\"toggleNav();\">Advanced Box Scores Four Factors</a></li>\n",
       "<li ng-if=\"!team.isSpecial\"><a href=\"/team/{{ team.id }}/boxscores-misc/\" ng-click=\"toggleNav();\">Advanced Box Scores Misc</a></li>\n",
       "<li ng-if=\"!team.isSpecial\" s=\"\"><a href=\"/team/{{ team.id }}/boxscores-scoring/\" ng-click=\"toggleNav();\">Advanced Box Scores Scoring</a></li>\n",
       "<li><a href=\"/team/{{ team.id }}/seasons/\" ng-click=\"toggleNav();\">Seasons</a></li>\n",
       "<li><a href=\"/team/{{ team.id }}/yearoveryear/\" ng-click=\"toggleNav();\">Year Over Year</a></li>\n",
       "<li><a href=\"/team/{{ team.id }}/franchise-leaders/\" ng-click=\"toggleNav();\">Franchise Leaders</a></li>\n",
       "<li><a href=\"/team/{{ team.id }}/historic-roster/\" ng-click=\"toggleNav();\">Historic Roster</a></li>\n",
       "</ul>\n",
       "</section>\n",
       "<!-- on off: open -->\n",
       "<div class=\"dropdown__category--active\" ng-show=\"isOnOffSection\">\n",
       "<div class=\"dropdown__item\" ng-click=\"toggleActiveMenu('onoff')\">\n",
       "<h4 class=\"dropdown__item-header\">\n",
       "<a class=\"dropdown__item-header__link\">On Off Court Compare <i aria-hidden=\"true\" class=\"dropdown__item-header__arrow [ fa / fa-chevron-right / show-for-large ]\"></i><i aria-hidden=\"true\" class=\"dropdown__item-header__arrow [ fa / fa-chevron-down / hide-for-large ]\"></i></a>\n",
       "</h4>\n",
       "</div>\n",
       "</div>\n",
       "<section class=\"dropdown__category\" ng-show=\"isActiveMenu.onoff\">\n",
       "<ul class=\"dropdown__category-list\">\n",
       "<li><a href=\"/vs/\" ng-click=\"toggleNav();\">Traditional</a></li>\n",
       "<li><a href=\"/vs/advanced/\" ng-click=\"toggleNav();\">Advanced</a></li>\n",
       "<li><a href=\"/vs/misc/\" ng-click=\"toggleNav();\">Misc</a></li>\n",
       "<li><a href=\"/vs/scoring/\" ng-click=\"toggleNav();\">Scoring</a></li>\n",
       "<li><a href=\"/vs/four-factors/\" ng-click=\"toggleNav();\">Four Factors</a></li>\n",
       "<li><a href=\"/vs/opponent/\" ng-click=\"toggleNav();\">Opponent</a></li>\n",
       "</ul>\n",
       "</section>\n",
       "<!-- game: open -->\n",
       "<div class=\"dropdown__category--active\" ng-show=\"isGameSection\">\n",
       "<div class=\"dropdown__item\" ng-click=\"toggleActiveMenu('game')\">\n",
       "<h4 class=\"dropdown__item-header\">\n",
       "<a class=\"dropdown__item-header__link\">{{ game.info }} <i aria-hidden=\"true\" class=\"dropdown__item-header__arrow [ fa / fa-chevron-right / show-for-large ]\"></i><i aria-hidden=\"true\" class=\"dropdown__item-header__arrow [ fa / fa-chevron-down / hide-for-large ]\"></i></a>\n",
       "</h4>\n",
       "</div>\n",
       "</div>\n",
       "<section class=\"dropdown__category\" ng-show=\"isActiveMenu.game\">\n",
       "<ul class=\"dropdown__category-list\">\n",
       "<li><a href=\"/game/{{ game.id }}/\">Box Score</a></li>\n",
       "<li><a href=\"/game/{{ game.id }}/advanced/\" ng-click=\"toggleNav();\" ng-show=\"game.sections.advancedStats\">Advanced</a></li>\n",
       "<li><a href=\"/game/{{ game.id }}/misc/\" ng-click=\"toggleNav();\" ng-show=\"game.sections.advancedStats\">Misc</a></li>\n",
       "<li><a href=\"/game/{{ game.id }}/scoring/\" ng-click=\"toggleNav();\" ng-show=\"game.sections.advancedStats\">Scoring</a></li>\n",
       "<li><a href=\"/game/{{ game.id }}/usage/\" ng-click=\"toggleNav();\" ng-show=\"game.sections.advancedStats\">Usage</a></li>\n",
       "<li><a href=\"/game/{{ game.id }}/four-factors/\" ng-click=\"toggleNav();\" ng-show=\"game.sections.advancedStats\">Four Factors</a></li>\n",
       "<li><a href=\"/game/{{ game.id }}/tracking/\" ng-click=\"toggleNav();\" ng-show=\"game.sections.playerTracking\">Player Tracking</a></li>\n",
       "<li><a href=\"/game/{{ game.id }}/playbyplay/\" ng-click=\"toggleNav();\" ng-show=\"game.sections.playByPlay\">Play By Play</a></li>\n",
       "<li><a href=\"/game/{{ game.id }}/shotchart/\" ng-click=\"toggleNav();\" ng-show=\"game.sections.shotchart\">Shotchart</a></li>\n",
       "<li><a href=\"/game/{{ game.id }}/charts/\" ng-click=\"toggleNav();\" ng-show=\"game.sections.gameCharts\">Game Charts</a></li>\n",
       "<li><a href=\"/game/{{ game.id }}/hustle/\" ng-click=\"toggleNav();\" ng-show=\"game.sections.hustle\">Hustle</a></li>\n",
       "</ul>\n",
       "</section>\n",
       "<!-- fantasy: open -->\n",
       "<div class=\"dropdown__category--active\" ng-show=\"isFantasySection\">\n",
       "<div class=\"dropdown__item\" ng-click=\"toggleActiveMenu('fantasy')\">\n",
       "<h4 class=\"dropdown__item-header\">\n",
       "<a class=\"dropdown__item-header__link\">Fantasy Compare <i aria-hidden=\"true\" class=\"dropdown__item-header__arrow [ fa / fa-chevron-right / show-for-large ]\"></i><i aria-hidden=\"true\" class=\"dropdown__item-header__arrow [ fa / fa-chevron-down / hide-for-large ]\"></i></a>\n",
       "</h4>\n",
       "</div>\n",
       "</div>\n",
       "<section class=\"dropdown__category\" ng-show=\"isActiveMenu.fantasy\">\n",
       "<ul class=\"dropdown__category-list\">\n",
       "<li><a href=\"/fantasycompare/\" ng-click=\"toggleNav();\">Traditional</a></li>\n",
       "<li><a href=\"/fantasycompare/advanced/\" ng-click=\"toggleNav();\">Advanced</a></li>\n",
       "<li><a href=\"/fantasycompare/misc/\" ng-click=\"toggleNav();\">Misc</a></li>\n",
       "<li><a href=\"/fantasycompare/scoring/\" ng-click=\"toggleNav();\">Scoring</a></li>\n",
       "</ul>\n",
       "</section>\n",
       "<!-- impact: open -->\n",
       "<div class=\"dropdown__category--active\" ng-show=\"isImpactSection\">\n",
       "<div class=\"dropdown__item\" ng-click=\"toggleActiveMenu('impact')\">\n",
       "<h4 class=\"dropdown__item-header\">\n",
       "<a class=\"dropdown__item-header__link\">Impact <i aria-hidden=\"true\" class=\"dropdown__item-header__arrow [ fa / fa-chevron-right / show-for-large ]\"></i><i aria-hidden=\"true\" class=\"dropdown__item-header__arrow [ fa / fa-chevron-down / hide-for-large ]\"></i></a>\n",
       "</h4>\n",
       "</div>\n",
       "</div>\n",
       "<section class=\"dropdown__category\" ng-show=\"isActiveMenu.impact\">\n",
       "<ul class=\"dropdown__category-list\">\n",
       "<li><a href=\"/impact/{{ impact }}\" ng-click=\"toggleNav();\">Traditional</a></li>\n",
       "<li><a href=\"/impact/advanced/{{ impact }}\" ng-click=\"toggleNav();\">Advanced</a></li>\n",
       "<li><a href=\"/impact/misc/{{ impact }}\" ng-click=\"toggleNav();\">Misc</a></li>\n",
       "<li><a href=\"/impact/scoring/{{ impact }}\" ng-click=\"toggleNav();\">Scoring</a></li>\n",
       "<li><a href=\"/impact/four-factors/{{ impact }}\" ng-click=\"toggleNav();\">Four Factors</a></li>\n",
       "<!-- <li><a href=\"/impact/opponent/{{ impact }}\" ng-click=\"toggleNav();\">Opponent</a></li> -->\n",
       "<!-- <li><a href=\"/impact/usage/{{ impact }}\" ng-click=\"toggleNav();\">Usage</a></li> -->\n",
       "<li><a href=\"/impact/defense/{{ impact }}\" ng-click=\"toggleNav();\">Defense</a></li>\n",
       "</ul>\n",
       "</section>\n",
       "<div class=\"stats-dropdown__level--base__top\"></div>\n",
       "<!-- players -->\n",
       "<div class=\"dropdown__item\" ng-class=\"{'dropdown__item--active':isCat.players}\" ng-click=\"toggleCat('players')\">\n",
       "<h4 class=\"dropdown__item-header\">Players <i aria-hidden=\"true\" class=\"dropdown__item-header__arrow [ fa / fa-chevron-right / show-for-large ]\"></i><i aria-hidden=\"true\" class=\"dropdown__item-header__arrow [ fa / fa-chevron-down / hide-for-large ]\"></i></h4>\n",
       "</div>\n",
       "<!-- players - category -->\n",
       "<section class=\"dropdown__category\" ng-show=\"isCat.players\">\n",
       "<ul class=\"dropdown__category-list\">\n",
       "<li><a href=\"/players/\">Players Home</a></li>\n",
       "<li><a href=\"/players/list/\">Player Index</a></li>\n",
       "<li><a href=\"/players/traditional/\">Traditional Stats</a></li>\n",
       "<li><a href=\"/leaders/\">Regular Season Leaders</a></li>\n",
       "<li ng-if=\"flags.isHustleMenuActive\"><a href=\"/players/hustle-leaders/\">Hustle Leaders</a></li>\n",
       "<li><a href=\"/players/advanced-leaders/\">Advanced Leaders</a></li>\n",
       "<li><a href=\"/alltime/\">All Time Leaders</a></li>\n",
       "<!-- players / general -->\n",
       "<li class=\"dropdown__item\" ng-class=\"{'dropdown__item--active': isPlayersSub.general}\" ng-click=\"toggleSub(isPlayersSub, 'general')\">\n",
       "<a class=\"dropdown__item-header\">General <i aria-hidden=\"true\" class=\"dropdown__item-header__arrow [ fa / fa-chevron-right / show-for-large ]\"></i><i aria-hidden=\"true\" class=\"dropdown__item-header__arrow [ fa / fa-chevron-down / hide-for-large ]\"></i></a>\n",
       "</li>\n",
       "<section class=\"dropdown__subcategory\" ng-show=\"isPlayersSub.general\">\n",
       "<ul class=\"dropdown__subcategory-list\">\n",
       "<li><a href=\"/players/traditional/\">Traditional</a></li>\n",
       "<li><a href=\"/players/advanced/\">Advanced</a></li>\n",
       "<li><a href=\"/players/misc/\">Misc</a></li>\n",
       "<li><a href=\"/players/scoring/\">Scoring</a></li>\n",
       "<li><a href=\"/players/usage/\">Usage</a></li>\n",
       "<li><a href=\"/players/opponent/\">Opponent</a></li>\n",
       "<li><a href=\"/players/defense/\">Defense</a></li>\n",
       "<li><a href=\"/players/estimated-advanced/\">Estimated Advanced</a></li>\n",
       "</ul>\n",
       "</section>\n",
       "<!-- players / clutch -->\n",
       "<li class=\"dropdown__item\" ng-class=\"{'dropdown__item--active': isPlayersSub.clutch}\" ng-click=\"toggleSub(isPlayersSub, 'clutch')\">\n",
       "<a class=\"dropdown__item-header\">Clutch <i aria-hidden=\"true\" class=\"dropdown__item-header__arrow [ fa / fa-chevron-right / show-for-large ]\"></i><i aria-hidden=\"true\" class=\"dropdown__item-header__arrow [ fa / fa-chevron-down / hide-for-large ]\"></i></a>\n",
       "</li>\n",
       "<section class=\"dropdown__subcategory\" ng-show=\"isPlayersSub.clutch\">\n",
       "<ul class=\"dropdown__subcategory-list\">\n",
       "<li><a href=\"/players/clutch-traditional/\">Clutch Traditional</a></li>\n",
       "<li><a href=\"/players/clutch-advanced/\">Clutch Advanced</a></li>\n",
       "<li><a href=\"/players/clutch-misc/\">Clutch Misc</a></li>\n",
       "<li><a href=\"/players/clutch-scoring/\">Clutch Scoring</a></li>\n",
       "<li><a href=\"/players/clutch-usage/\">Clutch Usage</a></li>\n",
       "</ul>\n",
       "</section>\n",
       "<!-- players / defense -->\n",
       "<li class=\"dropdown__item\" ng-class=\"{'dropdown__item--active': isPlayersSub.defense}\" ng-click=\"toggleSub(isPlayersSub, 'defense')\">\n",
       "<a class=\"dropdown__item-header\">Defense <i aria-hidden=\"true\" class=\"dropdown__item-header__arrow [ fa / fa-chevron-right / show-for-large ]\"></i><i aria-hidden=\"true\" class=\"dropdown__item-header__arrow [ fa / fa-chevron-down / hide-for-large ]\"></i></a>\n",
       "</li>\n",
       "<section class=\"dropdown__subcategory\" ng-show=\"isPlayersSub.defense\">\n",
       "<ul class=\"dropdown__subcategory-list\">\n",
       "<li><a href=\"/players/defense/\">Defense Overall</a></li>\n",
       "<li><a href=\"/players/defense-dash-overall/\">Defending Shots Overall</a></li>\n",
       "<li><a href=\"/players/defense-dash-3pt/\">Defending 3 Pointers</a></li>\n",
       "<li><a href=\"/players/defense-dash-2pt/\">Defending 2 Pointers</a></li>\n",
       "<li><a href=\"/players/defense-dash-lt6/\">Defending Less Than 6 FT</a></li>\n",
       "<li><a href=\"/players/defense-dash-lt10/\">Defending Less Than 10 FT</a></li>\n",
       "<li><a href=\"/players/defense-dash-gt15/\">Defending More Than 15 FT</a></li>\n",
       "<li><a href=\"/players/opponent-shooting/\">Opponent Shooting</a></li>\n",
       "<li><a href=\"/players/isolation/?OD=defensive\">By Play Type</a></li>\n",
       "</ul>\n",
       "</section>\n",
       "<!-- players / playtype -->\n",
       "<li class=\"dropdown__item\" ng-class=\"{'dropdown__item--active': isPlayersSub.playtype}\" ng-click=\"toggleSub(isPlayersSub, 'playtype')\">\n",
       "<a class=\"dropdown__item-header\">Play Type <i aria-hidden=\"true\" class=\"dropdown__item-header__arrow [ fa / fa-chevron-right / show-for-large ]\"></i><i aria-hidden=\"true\" class=\"dropdown__item-header__arrow [ fa / fa-chevron-down / hide-for-large ]\"></i></a>\n",
       "</li>\n",
       "<section class=\"dropdown__subcategory\" ng-show=\"isPlayersSub.playtype\">\n",
       "<ul class=\"dropdown__subcategory-list\">\n",
       "<li><a href=\"/players/transition/\">Transition</a></li>\n",
       "<li><a href=\"/players/isolation/\">Isolation</a></li>\n",
       "<li><a href=\"/players/ball-handler/\">Ball Handler</a></li>\n",
       "<li><a href=\"/players/roll-man/\">Roll Man</a></li>\n",
       "<li><a href=\"/players/playtype-post-up/\">Post Up</a></li>\n",
       "<li><a href=\"/players/spot-up/\">Spot Up</a></li>\n",
       "<li><a href=\"/players/hand-off/\">Hand Off</a></li>\n",
       "<li><a href=\"/players/cut/\">Cut</a></li>\n",
       "<li><a href=\"/players/off-screen/\">Off Screen</a></li>\n",
       "<li><a href=\"/players/putbacks/\">Put Backs</a></li>\n",
       "<li><a href=\"/players/playtype-misc/\">Misc</a></li>\n",
       "</ul>\n",
       "</section>\n",
       "<!-- players / tracking -->\n",
       "<li class=\"dropdown__item\" ng-class=\"{'dropdown__item--active': isPlayersSub.tracking}\" ng-click=\"toggleSub(isPlayersSub, 'tracking')\">\n",
       "<a class=\"dropdown__item-header\">Tracking <i aria-hidden=\"true\" class=\"dropdown__item-header__arrow [ fa / fa-chevron-right / show-for-large ]\"></i><i aria-hidden=\"true\" class=\"dropdown__item-header__arrow [ fa / fa-chevron-down / hide-for-large ]\"></i></a>\n",
       "</li>\n",
       "<section class=\"dropdown__subcategory\" ng-show=\"isPlayersSub.tracking\">\n",
       "<ul class=\"dropdown__subcategory-list\">\n",
       "<li><a href=\"/players/catch-shoot/\">Catch &amp; Shoot</a></li>\n",
       "<li><a href=\"/players/defensive-impact/\">Defensive Impact</a></li>\n",
       "<li><a href=\"/players/drives/\">Drives</a></li>\n",
       "<li><a href=\"/players/passing/\">Passing</a></li>\n",
       "<li><a href=\"/players/touches/\">Touches</a></li>\n",
       "<li><a href=\"/players/pullup/\">Pull Up Shooting</a></li>\n",
       "<li><a href=\"/players/rebounding/\">Rebounding</a></li>\n",
       "<li><a href=\"/players/offensive-rebounding/\">Offensive Rebounding</a></li>\n",
       "<li><a href=\"/players/defensive-rebounding/\">Defensive Rebounding</a></li>\n",
       "<li><a href=\"/players/shooting-efficiency/\">Shooting Efficiency</a></li>\n",
       "<li><a href=\"/players/speed-distance/\">Speed &amp; Distance</a></li>\n",
       "<li><a href=\"/players/elbow-touch/\">Elbow Touches</a></li>\n",
       "<li><a href=\"/players/tracking-post-ups/\">Post Ups</a></li>\n",
       "<li><a href=\"/players/paint-touch/\">Paint Touches</a></li>\n",
       "</ul>\n",
       "</section>\n",
       "<!-- players / shots -->\n",
       "<li class=\"dropdown__item\" ng-class=\"{'dropdown__item--active': isPlayersSub.shots}\" ng-click=\"toggleSub(isPlayersSub, 'shots')\">\n",
       "<a class=\"dropdown__item-header\">Shooting <i aria-hidden=\"true\" class=\"dropdown__item-header__arrow [ fa / fa-chevron-right / show-for-large ]\"></i><i aria-hidden=\"true\" class=\"dropdown__item-header__arrow [ fa / fa-chevron-down / hide-for-large ]\"></i></a>\n",
       "</li>\n",
       "<section class=\"dropdown__subcategory\" ng-show=\"isPlayersSub.shots\">\n",
       "<ul class=\"dropdown__subcategory-list\">\n",
       "<li><a href=\"/players/shots-general/\">Shots by General Range</a></li>\n",
       "<li><a href=\"/players/shots-shotclock/\">Shots by Shotclock</a></li>\n",
       "<li><a href=\"/players/shots-dribbles/\">Shots by Dribbles</a></li>\n",
       "<li><a href=\"/players/shots-touch-time/\">Shots by Touch Time</a></li>\n",
       "<li><a href=\"/players/shots-closest-defender/\">Shots by Closest Defender</a></li>\n",
       "<li><a href=\"/players/shots-closest-defender-10/\">Shots by Closest Defender (+10 FT)</a></li>\n",
       "<li><a href=\"/players/shooting/\">Shooting</a></li>\n",
       "<li><a href=\"/players/opponent-shooting/\">Opponent Shooting</a></li>\n",
       "</ul>\n",
       "</section>\n",
       "<li><a href=\"/players/hustle/\">Hustle Stats</a></li>\n",
       "<li><a href=\"/players/box-outs/\">Box Outs</a></li>\n",
       "<li><a href=\"/players/bio/\">Bios</a></li>\n",
       "<li><a href=\"/players/boxscores/\">Box Scores</a></li>\n",
       "<!-- players / advanced game logs -->\n",
       "<li class=\"dropdown__item\" ng-class=\"{'dropdown__item--active': isPlayersSub.advboxscores}\" ng-click=\"toggleSub(isPlayersSub, 'advboxscores')\">\n",
       "<a class=\"dropdown__item-header\">Advanced Box Scores <i aria-hidden=\"true\" class=\"dropdown__item-header__arrow [ fa / fa-chevron-right / show-for-large ]\"></i><i aria-hidden=\"true\" class=\"dropdown__item-header__arrow [ fa / fa-chevron-down / hide-for-large ]\"></i></a>\n",
       "</li>\n",
       "<section class=\"dropdown__subcategory\" ng-show=\"isPlayersSub.advboxscores\">\n",
       "<ul class=\"dropdown__subcategory-list\">\n",
       "<li><a href=\"/players/boxscores-traditional/\">Traditional</a></li>\n",
       "<li><a href=\"/players/boxscores-advanced/\">Advanced</a></li>\n",
       "<li><a href=\"/players/boxscores-misc/\">Misc</a></li>\n",
       "<li><a href=\"/players/boxscores-scoring/\">Scoring</a></li>\n",
       "<li><a href=\"/players/boxscores-usage/\">Usage</a></li>\n",
       "</ul>\n",
       "</section>\n",
       "</ul>\n",
       "</section>\n",
       "<!-- teams -->\n",
       "<div class=\"dropdown__item\" ng-class=\"{'dropdown__item--active':isCat.teams}\" ng-click=\"toggleCat('teams')\">\n",
       "<h4 class=\"dropdown__item-header\">Teams <i aria-hidden=\"true\" class=\"dropdown__item-header__arrow [ fa / fa-chevron-right / show-for-large ]\"></i><i aria-hidden=\"true\" class=\"dropdown__item-header__arrow [ fa / fa-chevron-down / hide-for-large ]\"></i></h4>\n",
       "</div>\n",
       "<section class=\"dropdown__category\" ng-show=\"isCat.teams\">\n",
       "<ul class=\"dropdown__category-list\">\n",
       "<li><a href=\"/teams/\">Teams Home</a></li>\n",
       "<!-- teams / general -->\n",
       "<li class=\"dropdown__item\" ng-class=\"{'dropdown__item--active': isTeamsSub.list}\" ng-click=\"toggleSub(isTeamsSub, 'list')\">\n",
       "<a class=\"dropdown__item-header\">All Teams <i aria-hidden=\"true\" class=\"dropdown__item-header__arrow [ fa / fa-chevron-right / show-for-large ]\"></i><i aria-hidden=\"true\" class=\"dropdown__item-header__arrow [ fa / fa-chevron-down / hide-for-large ]\"></i></a>\n",
       "</li>\n",
       "<section class=\"dropdown__subcategory\" ng-show=\"isTeamsSub.list\">\n",
       "<ul class=\"dropdown__subcategory-list\">\n",
       "<li ng-repeat=\"t in teams\"><a href=\"/team/{{ t.id }}/\"></a>{{ t.city }} {{ t.name }}</li></ul></section></ul></section></section></nav></main></body></html>\n",
       "\n",
       "\n",
       "<li><a href=\"/teams/traditional/\">Traditional Stats</a></li>\n",
       "<li ng-if=\"flags.isHustleMenuActive\"><a href=\"/teams/hustle-leaders/\">Hustle Leaders</a></li>\n",
       "<li><a href=\"/teams/advanced-leaders/\">Advanced Leaders</a></li>\n",
       "<!-- teams / general -->\n",
       "<li class=\"dropdown__item\" ng-class=\"{'dropdown__item--active': isTeamsSub.general}\" ng-click=\"toggleSub(isTeamsSub, 'general')\">\n",
       "<a class=\"dropdown__item-header\">General <i aria-hidden=\"true\" class=\"dropdown__item-header__arrow [ fa / fa-chevron-right / show-for-large ]\"></i><i aria-hidden=\"true\" class=\"dropdown__item-header__arrow [ fa / fa-chevron-down / hide-for-large ]\"></i></a>\n",
       "</li>\n",
       "<section class=\"dropdown__subcategory\" ng-show=\"isTeamsSub.general\">\n",
       "<ul class=\"dropdown__subcategory-list\">\n",
       "<li><a href=\"/teams/traditional/\">Traditional</a></li>\n",
       "<li><a href=\"/teams/advanced/\">Advanced</a></li>\n",
       "<li><a href=\"/teams/misc/\">Misc</a></li>\n",
       "<li><a href=\"/teams/four-factors/\">Four Factors</a></li>\n",
       "<li><a href=\"/teams/scoring/\">Scoring</a></li>\n",
       "<li><a href=\"/teams/opponent/\">Opponent</a></li>\n",
       "<li><a href=\"/teams/defense/\">Defense</a></li>\n",
       "<li><a href=\"/teams/estimated-advanced/\">Estimated Advanced</a></li>\n",
       "</ul>\n",
       "</section>\n",
       "<!-- clutch -->\n",
       "<li class=\"dropdown__item\" ng-class=\"{'dropdown__item--active': isTeamsSub.clutch}\" ng-click=\"toggleSub(isTeamsSub, 'clutch')\">\n",
       "<a class=\"dropdown__item-header\">Clutch <i aria-hidden=\"true\" class=\"dropdown__item-header__arrow [ fa / fa-chevron-right / show-for-large ]\"></i><i aria-hidden=\"true\" class=\"dropdown__item-header__arrow [ fa / fa-chevron-down / hide-for-large ]\"></i></a>\n",
       "</li>\n",
       "<section class=\"dropdown__subcategory\" ng-show=\"isTeamsSub.clutch\">\n",
       "<ul class=\"dropdown__subcategory-list\">\n",
       "<li><a href=\"/teams/clutch-traditional/\">Clutch Traditional</a></li>\n",
       "<li><a href=\"/teams/clutch-advanced/\">Clutch Advanced</a></li>\n",
       "<li><a href=\"/teams/clutch-misc/\">Clutch Misc</a></li>\n",
       "<li><a href=\"/teams/clutch-four-factors/\">Clutch Four Factors</a></li>\n",
       "<li><a href=\"/teams/clutch-scoring/\">Clutch Scoring</a></li>\n",
       "<li><a href=\"/teams/clutch-opponent/\">Clutch Opponent</a></li>\n",
       "</ul>\n",
       "</section>\n",
       "<!-- teams / defense -->\n",
       "<li class=\"dropdown__item\" ng-class=\"{'dropdown__item--active': isTeamsSub.defense}\" ng-click=\"toggleSub(isTeamsSub, 'defense')\">\n",
       "<a class=\"dropdown__item-header\">Defense <i aria-hidden=\"true\" class=\"dropdown__item-header__arrow [ fa / fa-chevron-right / show-for-large ]\"></i><i aria-hidden=\"true\" class=\"dropdown__item-header__arrow [ fa / fa-chevron-down / hide-for-large ]\"></i></a>\n",
       "</li>\n",
       "<section class=\"dropdown__subcategory\" ng-show=\"isTeamsSub.defense\">\n",
       "<ul class=\"dropdown__subcategory-list\">\n",
       "<li><a href=\"/teams/defense/\">Defense Overall</a></li>\n",
       "<li><a href=\"/teams/defense-dash-overall/\">Defending Shots Overall</a></li>\n",
       "<li><a href=\"/teams/defense-dash-3pt/\">Defending 3 Pointers</a></li>\n",
       "<li><a href=\"/teams/defense-dash-2pt/\">Defending 2 Pointers</a></li>\n",
       "<li><a href=\"/teams/defense-dash-lt6/\">Defending Less Than 6 FT</a></li>\n",
       "<li><a href=\"/teams/defense-dash-lt10/\">Defending Less Than 10 FT</a></li>\n",
       "<li><a href=\"/teams/defense-dash-gt15/\">Defending More Than 15 FT</a></li>\n",
       "<li><a href=\"/teams/opponent-shooting/\">Overall Opponent Shooting</a></li>\n",
       "<li><a href=\"/teams/isolation/?OD=defensive\">By Play Type</a></li>\n",
       "</ul>\n",
       "</section>\n",
       "<!-- teams / playtype -->\n",
       "<li class=\"dropdown__item\" ng-class=\"{'dropdown__item--active': isTeamsSub.playtype}\" ng-click=\"toggleSub(isTeamsSub, 'playtype')\">\n",
       "<a class=\"dropdown__item-header\">Play Type <i aria-hidden=\"true\" class=\"dropdown__item-header__arrow [ fa / fa-chevron-right / show-for-large ]\"></i><i aria-hidden=\"true\" class=\"dropdown__item-header__arrow [ fa / fa-chevron-down / hide-for-large ]\"></i></a>\n",
       "</li>\n",
       "<section class=\"dropdown__subcategory\" ng-show=\"isTeamsSub.playtype\">\n",
       "<ul class=\"dropdown__subcategory-list\">\n",
       "<li><a href=\"/teams/transition/\">Transition</a></li>\n",
       "<li><a href=\"/teams/isolation/\">Isolation</a></li>\n",
       "<li><a href=\"/teams/ball-handler/\">Ball Handler</a></li>\n",
       "<li><a href=\"/teams/roll-man/\">Roll Man</a></li>\n",
       "<li><a href=\"/teams/playtype-post-up/\">Post Up</a></li>\n",
       "<li><a href=\"/teams/spot-up/\">Spot Up</a></li>\n",
       "<li><a href=\"/teams/hand-off/\">Hand Off</a></li>\n",
       "<li><a href=\"/teams/cut/\">Cut</a></li>\n",
       "<li><a href=\"/teams/off-screen/\">Off Screen</a></li>\n",
       "<li><a href=\"/teams/putbacks/\">Put Backs</a></li>\n",
       "<li><a href=\"/teams/playtype-misc/\">Misc</a></li>\n",
       "</ul>\n",
       "</section>\n",
       "<!-- teams / tracking -->\n",
       "<li class=\"dropdown__item\" ng-class=\"{'dropdown__item--active': isTeamsSub.tracking}\" ng-click=\"toggleSub(isTeamsSub, 'tracking')\">\n",
       "<a class=\"dropdown__item-header\">Tracking <i aria-hidden=\"true\" class=\"dropdown__item-header__arrow [ fa / fa-chevron-right / show-for-large ]\"></i><i aria-hidden=\"true\" class=\"dropdown__item-header__arrow [ fa / fa-chevron-down / hide-for-large ]\"></i></a>\n",
       "</li>\n",
       "<section class=\"dropdown__subcategory\" ng-show=\"isTeamsSub.tracking\">\n",
       "<ul class=\"dropdown__subcategory-list\">\n",
       "<li><a href=\"/teams/catch-shoot/\">Catch &amp; Shoot</a></li>\n",
       "<li><a href=\"/teams/defensive-impact/\">Defensive Impact</a></li>\n",
       "<li><a href=\"/teams/drives/\">Drives</a></li>\n",
       "<li><a href=\"/teams/passing/\">Passing</a></li>\n",
       "<li><a href=\"/teams/touches/\">Touches</a></li>\n",
       "<li><a href=\"/teams/pullup/\">Pull Up Shooting</a></li>\n",
       "<li><a href=\"/teams/rebounding/\">Rebounding</a></li>\n",
       "<li><a href=\"/teams/offensive-rebounding/\">Offensive Rebounding</a></li>\n",
       "<li><a href=\"/teams/defensive-rebounding/\">Defensive Rebounding</a></li>\n",
       "<li><a href=\"/teams/shooting-efficiency/\">Shooting Efficiency</a></li>\n",
       "<li><a href=\"/teams/speed-distance/\">Speed &amp; Distance</a></li>\n",
       "<li><a href=\"/teams/elbow-touch/\">Elbow Touches</a></li>\n",
       "<li><a href=\"/teams/tracking-post-ups/\">Post Ups</a></li>\n",
       "<li><a href=\"/teams/paint-touch/\">Paint Touches</a></li>\n",
       "</ul>\n",
       "</section>\n",
       "<!-- teams / shot dashboard -->\n",
       "<li class=\"dropdown__item\" ng-class=\"{'dropdown__item--active': isTeamsSub.shotdash}\" ng-click=\"toggleSub(isTeamsSub, 'shotdash')\">\n",
       "<a class=\"dropdown__item-header\">Shooting <i aria-hidden=\"true\" class=\"dropdown__item-header__arrow [ fa / fa-chevron-right / show-for-large ]\"></i><i aria-hidden=\"true\" class=\"dropdown__item-header__arrow [ fa / fa-chevron-down / hide-for-large ]\"></i></a>\n",
       "</li>\n",
       "<section class=\"dropdown__subcategory\" ng-show=\"isTeamsSub.shotdash\">\n",
       "<ul class=\"dropdown__subcategory-list\">\n",
       "<li><a href=\"/teams/shots-general/\">Shots By General Range</a></li>\n",
       "<li><a href=\"/teams/shots-shotclock/\">Shots By Shotclock</a></li>\n",
       "<li><a href=\"/teams/shots-dribbles/\">Shots By Dribbles</a></li>\n",
       "<li><a href=\"/teams/shots-touch-time/\">Shots By Touch Time</a></li>\n",
       "<li><a href=\"/teams/shots-closest-defender/\">Shots By Closest Defender</a></li>\n",
       "<li><a href=\"/teams/shots-closest-defender-10/\">Shots By Closest Defender (+10 FT)</a></li>\n",
       "<li><a href=\"/teams/shooting/\">Shooting</a></li>\n",
       "</ul>\n",
       "</section>\n",
       "<!-- teams / opp shooting dashboard -->\n",
       "<li class=\"dropdown__item\" ng-class=\"{'dropdown__item--active': isTeamsSub.oppshotdash}\" ng-click=\"toggleSub(isTeamsSub, 'oppshotdash')\">\n",
       "<a class=\"dropdown__item-header\">Opponent Shooting <i aria-hidden=\"true\" class=\"dropdown__item-header__arrow [ fa / fa-chevron-right / show-for-large ]\"></i><i aria-hidden=\"true\" class=\"dropdown__item-header__arrow [ fa / fa-chevron-down / hide-for-large ]\"></i></a>\n",
       "</li>\n",
       "<section class=\"dropdown__subcategory\" ng-show=\"isTeamsSub.oppshotdash\">\n",
       "<ul class=\"dropdown__subcategory-list\">\n",
       "<li><a href=\"/teams/opponent-shooting/\">Overall Opponent Shooting</a></li>\n",
       "<li><a href=\"/teams/opponent-shots-general/\">Opponent Shots By General Range</a></li>\n",
       "<li><a href=\"/teams/opponent-shots-shotclock/\">Opponent Shots By Shotclock</a></li>\n",
       "<li><a href=\"/teams/opponent-shots-dribbles/\">Opponent Shots By Dribbles</a></li>\n",
       "<li><a href=\"/teams/opponent-shots-touch-time/\">Opponent Shots By Touch Time</a></li>\n",
       "<li><a href=\"/teams/opponent-shots-closest-defender/\">Opponent Shots By Closest Defender</a></li>\n",
       "<li><a href=\"/teams/opponent-shots-closest-defender-10/\">Opponent Shots By Closest Defender (+10 FT)</a></li>\n",
       "</ul>\n",
       "</section>\n",
       "<li><a href=\"/teams/hustle/\">Hustle Stats</a></li>\n",
       "<li><a href=\"/teams/box-outs/\">Box Outs</a></li>\n",
       "<li><a href=\"/teams/boxscores/\">Box Scores</a></li>\n",
       "<!-- teams / advanced game logs -->\n",
       "<li class=\"dropdown__item\" ng-class=\"{'dropdown__item--active': isTeamsSub.advboxscores}\" ng-click=\"toggleSub(isTeamsSub, 'advboxscores')\">\n",
       "<a class=\"dropdown__item-header\">Advanced Box Scores <i aria-hidden=\"true\" class=\"dropdown__item-header__arrow [ fa / fa-chevron-right / show-for-large ]\"></i><i aria-hidden=\"true\" class=\"dropdown__item-header__arrow [ fa / fa-chevron-down / hide-for-large ]\"></i></a>\n",
       "</li>\n",
       "<section class=\"dropdown__subcategory\" ng-show=\"isTeamsSub.advboxscores\">\n",
       "<ul class=\"dropdown__subcategory-list\">\n",
       "<li><a href=\"/teams/boxscores-traditional/\">Traditional</a></li>\n",
       "<li><a href=\"/teams/boxscores-advanced/\">Advanced</a></li>\n",
       "<li><a href=\"/teams/boxscores-four-factors/\">Four Factors</a></li>\n",
       "<li><a href=\"/teams/boxscores-misc/\">Misc</a></li>\n",
       "<li><a href=\"/teams/boxscores-scoring/\">Scoring</a></li>\n",
       "</ul>\n",
       "</section>\n",
       "\n",
       "\n",
       "<div class=\"dropdown__separator\"></div>\n",
       "<div class=\"dropdown__item\">\n",
       "<h4 class=\"dropdown__item-header\">\n",
       "<a class=\"dropdown__item-header__link\" href=\"/quicklinks/\">Quick Links</a>\n",
       "</h4>\n",
       "</div>\n",
       "<!-- <div class=\"dropdown__item\">\n",
       "      <h4 class=\"dropdown__item-header\">\n",
       "        <a class=\"dropdown__item-header__link\"  href=\"/finals/\">Finals</a>\n",
       "      </h4>\n",
       "    </div>\n",
       "\n",
       "    <div class=\"dropdown__item\">\n",
       "      <h4 class=\"dropdown__item-header\">\n",
       "        <a class=\"dropdown__item-header__link\"  href=\"/playoffs/\">Playoffs</a>\n",
       "      </h4>\n",
       "    </div> -->\n",
       "<div class=\"dropdown__separator\"></div>\n",
       "<div class=\"dropdown__item\">\n",
       "<h4 class=\"dropdown__item-header\">\n",
       "<a class=\"dropdown__item-header__link\" href=\"/alltime/\">All Time Leaders</a>\n",
       "</h4>\n",
       "</div>\n",
       "<div class=\"dropdown__item\">\n",
       "<h4 class=\"dropdown__item-header\">\n",
       "<a class=\"dropdown__item-header__link\" href=\"/lineups/\">Daily Lineups</a>\n",
       "</h4>\n",
       "</div>\n",
       "<!-- <div class=\"dropdown__item\">\n",
       "      <h4 class=\"dropdown__item-header\">\n",
       "        <a class=\"dropdown__item-header__link\" href=\"/finals/\">Finals</a>\n",
       "      </h4>\n",
       "    </div> -->\n",
       "<!-- <div class=\"dropdown__item\">\n",
       "      <h4 class=\"dropdown__item-header\">\n",
       "        <a class=\"dropdown__item-header__link\" href=\"/draft/combine/\">2018 Draft Combine</a>\n",
       "      </h4>\n",
       "    </div> -->\n",
       "<div class=\"dropdown__separator\"></div>\n",
       "<div class=\"dropdown__item\" ng-if=\"flags.isHustleMenuActive\">\n",
       "<h4 class=\"dropdown__item-header\">\n",
       "<a class=\"dropdown__item-header__link\" href=\"/players/hustle-leaders/\">Hustle Leaders</a>\n",
       "</h4>\n",
       "</div>\n",
       "<div class=\"dropdown__item\">\n",
       "<h4 class=\"dropdown__item-header\">\n",
       "<a class=\"dropdown__item-header__link\" href=\"/players/advanced-leaders/\">Advanced Leaders</a>\n",
       "</h4>\n",
       "</div>\n",
       "<div class=\"dropdown__item\">\n",
       "<h4 class=\"dropdown__item-header\">\n",
       "<a class=\"dropdown__item-header__link\" href=\"/scores/\">Scores</a>\n",
       "</h4>\n",
       "</div>\n",
       "<div class=\"dropdown__item\">\n",
       "<h4 class=\"dropdown__item-header\">\n",
       "<a class=\"dropdown__item-header__link\" href=\"/schedule/\">Schedule</a>\n",
       "</h4>\n",
       "</div>\n",
       "<div class=\"dropdown__item\">\n",
       "<h4 class=\"dropdown__item-header\">\n",
       "<a class=\"dropdown__item-header__link\" href=\"/standings/\">Standings</a>\n",
       "</h4>\n",
       "</div>\n",
       "<div class=\"dropdown__item\">\n",
       "<h4 class=\"dropdown__item-header\">\n",
       "<a class=\"dropdown__item-header__link\" href=\"/gamebooks/\">Official Box Scores</a>\n",
       "</h4>\n",
       "</div>\n",
       "<!-- franchiseleaders  -->\n",
       "<div class=\"dropdown__item\" ng-class=\"{'dropdown__item--active':isCat.franchiseleaders}\" ng-click=\"toggleCat('franchiseleaders');\">\n",
       "<h4 class=\"dropdown__item-header\">Franchise Leaders<i aria-hidden=\"true\" class=\"dropdown__item-header__arrow [ fa / fa-chevron-right / show-for-large ]\"></i><i aria-hidden=\"true\" class=\"dropdown__item-header__arrow [ fa / fa-chevron-down / hide-for-large ]\"></i></h4>\n",
       "</div>\n",
       "<!-- category: franchiseleaders -->\n",
       "<section class=\"dropdown__category\" ng-show=\"isCat.franchiseleaders\">\n",
       "<ul class=\"dropdown__category-list\">\n",
       "<li ng-repeat=\"t in teams\"><a href=\"/team/{{ t.id }}/franchise-leaders\"></a>{{ t.city }} {{ t.name }}</li></ul></section>\n",
       "\n",
       "\n",
       "<!-- fantasy -->\n",
       "<div class=\"dropdown__item\" ng-class=\"{'dropdown__item--active':isCat.fantasySection}\" ng-click=\"toggleCat('fantasySection');\">\n",
       "<h4 class=\"dropdown__item-header\">Fantasy<i aria-hidden=\"true\" class=\"dropdown__item-header__arrow [ fa / fa-chevron-right / show-for-large ]\"></i><i aria-hidden=\"true\" class=\"dropdown__item-header__arrow [ fa / fa-chevron-down / hide-for-large ]\"></i></h4>\n",
       "</div>\n",
       "<!-- category: fantasy-->\n",
       "<section class=\"dropdown__category\" ng-show=\"isCat.fantasySection\">\n",
       "<ul class=\"dropdown__category-list\">\n",
       "<li><a href=\"/fantasynews/\">Fantasy News</a></li>\n",
       "<li><a href=\"/fantasycompare/\">Fantasy Compare</a></li>\n",
       "<li><a href=\"/fantasydraft/\">Fantasy Mock Draft</a></li>\n",
       "<li><a href=\"/fantasyranking/\">Fantasy Cumulative Ranking</a></li>\n",
       "</ul>\n",
       "</section>\n",
       "<!-- lineups -->\n",
       "<div class=\"dropdown__item\" ng-class=\"{'dropdown__item--active':isCat.lineups}\" ng-click=\"toggleCat('lineups')\">\n",
       "<h4 class=\"dropdown__item-header\">Lineups <i aria-hidden=\"true\" class=\"dropdown__item-header__arrow [ fa / fa-chevron-right / show-for-large ]\"></i><i aria-hidden=\"true\" class=\"dropdown__item-header__arrow [ fa / fa-chevron-down / hide-for-large ]\"></i></h4>\n",
       "</div>\n",
       "<!-- category: lineups -->\n",
       "<section class=\"dropdown__category\" ng-show=\"isCat.lineups\">\n",
       "<ul class=\"dropdown__category-list\">\n",
       "<li><a href=\"/lineups/traditional/\">Traditional</a></li>\n",
       "<li><a href=\"/lineups/advanced/\">Advanced</a></li>\n",
       "<li><a href=\"/lineups/misc/\">Misc</a></li>\n",
       "<li><a href=\"/lineups/four-factors/\">Four Factors</a></li>\n",
       "<li><a href=\"/lineups/scoring/\">Scoring</a></li>\n",
       "<li><a href=\"/lineups/opponent/\">Opponent</a></li>\n",
       "</ul>\n",
       "</section>\n",
       "<!-- onoff  -->\n",
       "<div class=\"dropdown__item\" ng-class=\"{'dropdown__item--active':isCat.onoff}\" ng-click=\"toggleCat('onoff');\">\n",
       "<h4 class=\"dropdown__item-header\">On/Off Court by Team <i aria-hidden=\"true\" class=\"dropdown__item-header__arrow [ fa / fa-chevron-right / show-for-large ]\"></i><i aria-hidden=\"true\" class=\"dropdown__item-header__arrow [ fa / fa-chevron-down / hide-for-large ]\"></i></h4>\n",
       "</div>\n",
       "<!-- category: onoff -->\n",
       "<section class=\"dropdown__category\" ng-show=\"isCat.onoff\">\n",
       "<ul class=\"dropdown__category-list\">\n",
       "<li ng-repeat=\"t in teams\"><a href=\"/team/{{ t.id }}/onoffcourt-summary\"></a>{{ t.city }} {{ t.name }}</li></ul></section>\n",
       "\n",
       "\n",
       "<!-- draft -->\n",
       "<div class=\"dropdown__item\" ng-class=\"{'dropdown__item--active':isCat.draft}\" ng-click=\"toggleCat('draft')\">\n",
       "<h4 class=\"dropdown__item-header\">Draft &amp; Combine <i aria-hidden=\"true\" class=\"dropdown__item-header__arrow [ fa / fa-chevron-right / show-for-large ]\"></i><i aria-hidden=\"true\" class=\"dropdown__item-header__arrow [ fa / fa-chevron-down / hide-for-large ]\"></i></h4>\n",
       "</div>\n",
       "<!-- category: draft -->\n",
       "<section class=\"dropdown__category\" ng-show=\"isCat.draft\">\n",
       "<ul class=\"dropdown__category-list\">\n",
       "<li><a href=\"/draft/combine/\">Draft Combine</a></li>\n",
       "<li><a href=\"/draft/history/\">Draft History</a></li>\n",
       "<li><a href=\"/draft/combine-spot-up/\">Combine Spot Up Shooting</a></li>\n",
       "<li><a href=\"/draft/combine-non-stationary/\">Combine Non-Stationary Shooting</a></li>\n",
       "<li><a href=\"/draft/combine-strength-agility/\">Combine Strength &amp; Agility</a></li>\n",
       "<li><a href=\"/draft/combine-anthro/\">Combine Anthro</a></li>\n",
       "</ul>\n",
       "</section>\n",
       "<!-- tools -->\n",
       "<div class=\"dropdown__item\" ng-class=\"{'dropdown__item--active':isCat.tools}\" ng-click=\"toggleCat('tools')\">\n",
       "<h4 class=\"dropdown__item-header\">Tools <i aria-hidden=\"true\" class=\"dropdown__item-header__arrow [ fa / fa-chevron-right / show-for-large ]\"></i><i aria-hidden=\"true\" class=\"dropdown__item-header__arrow [ fa / fa-chevron-down / hide-for-large ]\"></i></h4>\n",
       "</div>\n",
       "<!-- category: tools -->\n",
       "<section class=\"dropdown__category\" ng-show=\"isCat.tools\">\n",
       "<ul class=\"dropdown__category-list\">\n",
       "<li><a href=\"/search/player-game/\">Player Box Score Search</a></li>\n",
       "<li><a href=\"/search/team-game/\">Team Box Score Search</a></li>\n",
       "<li><a href=\"/search/player-streak/\">Player Streak Search</a></li>\n",
       "<li><a href=\"/search/team-streak/\">Team Streak Search</a></li>\n",
       "<li><a href=\"/vs/\">Player Compare</a></li>\n",
       "<li><a href=\"/fantasycompare/\">Fantasy Compare</a></li>\n",
       "<li><a href=\"/impact/\">Impact</a></li>\n",
       "<li><a href=\"/cumestats/\">Cume Stats</a></li>\n",
       "</ul>\n",
       "</section>\n",
       "<!-- Stats 101: OTHER -->\n",
       "<div class=\"dropdown__item\" ng-class=\"{'dropdown__item--active':isCat.other}\" ng-click=\"toggleCat('other')\">\n",
       "<h4 class=\"dropdown__item-header\">Stats 101<i aria-hidden=\"true\" class=\"dropdown__item-header__arrow [ fa / fa-chevron-right / show-for-large ]\"></i><i aria-hidden=\"true\" class=\"dropdown__item-header__arrow [ fa / fa-chevron-down / hide-for-large ]\"></i></h4>\n",
       "</div>\n",
       "<!-- category: other -->\n",
       "<section class=\"dropdown__category\" ng-show=\"isCat.other\">\n",
       "<ul class=\"dropdown__category-list\">\n",
       "<li><a href=\"/history/\">Franchise History</a></li>\n",
       "<li><a href=\"/help/statminimums/\">Statistical Minimums</a></li>\n",
       "<li><a href=\"/help/glossary/\">Glossary</a></li>\n",
       "<li><a href=\"/transactions/\">Transactions</a></li>\n",
       "<li><a href=\"/fantasynews/\">Fantasy News</a></li>\n",
       "<li><a href=\"/featuredarchive/\">Articles</a></li>\n",
       "<li><a href=\"/spotlightarchive/\">Weekly Stats Archive</a></li>\n",
       "<li><a href=\"/help/faq/\">FAQ</a></li>\n",
       "<li><a href=\"/help/whatsnew/\">What's New</a></li>\n",
       "<li><a href=\"/help/videostatus/\">Video &amp; Tracking Status</a></li>\n",
       "<li><a href=\"http://videorulebook.nba.com\">Video Rulebook</a></li>\n",
       "<li><a href=\"/help/\">Contact Us</a></li>\n",
       "</ul>\n",
       "</section>\n",
       "<!-- NBA Events -->\n",
       "<div class=\"dropdown__item\" ng-class=\"{'dropdown__item--active':isCat.nbaEvents}\" ng-click=\"toggleCat('nbaEvents')\">\n",
       "<h4 class=\"dropdown__item-header\">Events <i aria-hidden=\"true\" class=\"dropdown__item-header__arrow [ fa / fa-chevron-right / show-for-large ]\"></i><i aria-hidden=\"true\" class=\"dropdown__item-header__arrow [ fa / fa-chevron-down / hide-for-large ]\"></i></h4>\n",
       "</div>\n",
       "<!-- category: nbaEvents -->\n",
       "<section class=\"dropdown__category\" ng-show=\"isCat.nbaEvents\">\n",
       "<ul class=\"dropdown__category-list\">\n",
       "<li><a href=\"/finals/\">2019 Finals</a></li>\n",
       "<!-- <li><a href=\"/playoffs/\">2018 Playoffs</a></li> -->\n",
       "<li><a href=\"/schedule/summerleague/\">2019 Summer League</a></li>\n",
       "<!-- <li><a href=\"/africa2017/\">NBA Africa Game 2017</a></li> -->\n",
       "<li class=\"dropdown__item\" ng-class=\"{'dropdown__item--active': isEventsSub.allstar}\" ng-click=\"toggleSub(isEventsSub, 'allstar')\">\n",
       "<a class=\"dropdown__item-header\">All-Star Infographics<i aria-hidden=\"true\" class=\"dropdown__item-header__arrow [ fa / fa-chevron-right / show-for-large ]\"></i><i aria-hidden=\"true\" class=\"dropdown__item-header__arrow [ fa / fa-chevron-down / hide-for-large ]\"></i></a>\n",
       "</li>\n",
       "<section class=\"dropdown__subcategory\" ng-show=\"isEventsSub.allstar\">\n",
       "<ul class=\"dropdown__subcategory-list\">\n",
       "<li><a class=\"dropdown__item-header__link\" href=\"/allstar2019/friday/\">All-Star Friday Infographic</a></li>\n",
       "<li><a class=\"dropdown__item-header__link\" href=\"/allstar2019/saturday/\">All-Star Saturday Infographic</a></li>\n",
       "<li><a class=\"dropdown__item-header__link\" href=\"/allstar2019/sunday/\">All-Star Sunday Infographic</a></li>\n",
       "</ul>\n",
       "</section>\n",
       "<li><a href=\"/draft/combine/\">Draft Combine</a></li>\n",
       "</ul>\n",
       "</section>\n",
       "\n",
       "\n",
       "<div class=\"nav-container\" data-body-class=\"nav--fixed\" data-element-class=\"nav-container--fixed\" ng-cloak=\"\" ng-controller=\"StatsHeaderController\" set-class-scroll-top=\"\">\n",
       "<div class=\"nav-inner\">\n",
       "<!-- left: inner nav -->\n",
       "<nav class=\"nav-inner__menu nav-inner__menu--left\" role=\"navigation\">\n",
       "<div class=\"nav-inner__menu-button\" ng-click=\"toggleNav($event)\">\n",
       "<i aria-hidden=\"true\" class=\"nav-inner__menu-button-icon [ fa fa-bars fa-lg ]\"></i>\n",
       "<img alt=\"NBA.com/Stats Logo\" class=\"nav-inner__logo\" src=\"/media/img/league/nba-logoman.svg\" title=\"NBA.com/Stats\"/>\n",
       "<span class=\"nav-inner__wordmark\">Advanced Stats</span>\n",
       "</div>\n",
       "<div class=\"nav-inner__menu-item\" ng-class=\"{ active: activeTab=='home' }\"><a href=\"/\">Stats Home</a></div>\n",
       "<div class=\"nav-inner__menu-item\" ng-class=\"{ active: activeTab=='players' }\"><a href=\"/players/\">Players</a></div>\n",
       "<div class=\"nav-inner__menu-item\" ng-class=\"{ active: activeTab=='teams' }\"><a href=\"/teams/\">Teams</a></div>\n",
       "<!-- <div class=\"nav-inner__menu-item\" ng-class=\"{ active: activeTab=='leaders' }\"><a href=\"/players/advanced-leaders/\">Advanced</a></div> -->\n",
       "<div class=\"nav-inner__menu-item\" ng-class=\"{ active: activeTab=='scores' }\"><a href=\"/scores/\">Scores</a></div>\n",
       "<div class=\"nav-inner__menu-item\" ng-class=\"{ active: activeTab=='schdule' }\"><a href=\"/schedule/\">Schedule</a></div>\n",
       "<div class=\"nav-inner__menu-item\" ng-class=\"{ active: activeTab=='quicklinks' }\"><a href=\"/quicklinks/\">Quick Links</a></div>\n",
       "<!-- <div class=\"nav-inner__menu-item\" ng-class=\"{ active: activeTab=='alltime' }\"><a href=\"/alltime/\">All Time Leaders</a></div> -->\n",
       "<!-- <div class=\"nav-inner__menu-item\" ng-class=\"{ active: activeTab=='allstar' }\"><a ng-href=\"{{ allstarLink.url }}\" title=\"{{ allstarLink.text }}\">All-Star 2019</a></div> -->\n",
       "</nav> <!-- .nav-inner__menu -->\n",
       "<!-- right: search -->\n",
       "<!-- add active class to test active search state -->\n",
       "<div class=\"nav-inner__search nav-inner__search--right stats-search\" ng-class=\"{ active: showSearch }\" ng-controller=\"StatsSearchController\">\n",
       "<!-- search icon, always visible -->\n",
       "<div class=\"stats-search__top\">\n",
       "<input class=\"stats-search__input\" ng-change=\"onChange($event)\" ng-keydown=\"onKeyDown($event)\" ng-model=\"search\" ng-show=\"showSearch\" type=\"text\"/>\n",
       "<a class=\"stats-search__icon\" ng-click=\"toggleSearch();\" ng-keyup=\"$event.keyCode == 13 ? toggleSearch() : null\" tabindex=\"0\">\n",
       "<span class=\"stats-search__icon-text\">Search For A Player or Team</span><i aria-hidden=\"true\" class=\"[ fa / fa-search ]\"></i>\n",
       "</a>\n",
       "</div>\n",
       "<div class=\"stats-search__results\" ng-show=\"showResults\">\n",
       "<div class=\"stats-search__section stats-search__section--none\" ng-show=\"!hasResults &amp;&amp; search.length &gt; 3\">\n",
       "<span class=\"stats-search__no-results\">No Results Found</span>\n",
       "</div> <!-- .stats-search__section -->\n",
       "<div class=\"stats-search__section\" ng-class=\"{recent: showRecent}\" ng-show=\"searchResults.length\">\n",
       "<div class=\"stats-search__item {{ item.type }}\" data-index=\"{{ $index }}\" ng-repeat=\"item in searchResults | limitTo:maxResults\">\n",
       "<div class=\"stats-search__link\" ng-class=\"{'stats-search__link--active': (activeIndex==$index)}\">\n",
       "<a class=\"stats-search__link-anchor\" href=\"/team/{{ ::item.id }}/traditional/\" ng-if=\"item.type==='tm'\" ng-mousedown=\"onItemClick($event, item, $index);\" ng-mouseover=\"onItemHover($event, item, $index);\" role=\"button\">{{ ::item.city }} {{ ::item.name }}</a>\n",
       "<a class=\"stats-search__link-anchor\" href=\"/player/{{ ::item.id }}/\" ng-if=\"item.type==='pl' &amp;&amp; item.from&gt;=1996\" ng-mousedown=\"onItemClick($event, item, $index);\" ng-mouseover=\"onItemHover($event, item, $index);\" role=\"button\">{{ ::item.fn }} {{ ::item.ln }}</a>\n",
       "<a class=\"stats-search__link-anchor\" href=\"/player/{{ ::item.id }}/career/\" ng-if=\"item.type==='pl' &amp;&amp; item.from&lt;1996\" ng-mousedown=\"onItemClick($event, item, $index);\" ng-mouseover=\"onItemHover($event, item, $index);\" role=\"button\">{{ ::item.fn }} {{ ::item.ln }}</a>\n",
       "</div>\n",
       "</div><!-- .stats-search__item -->\n",
       "<div class=\"stats-search__show-all\">\n",
       "<a class=\"searchbar__results__link searchbar__results__link--more\" ng-href=\"/players/list/?s={{ search }}&amp;Historic=1\" ng-show=\"searchResults.length &gt; maxResults\">See More Results</a>\n",
       "</div>\n",
       "</div> <!-- .stats-search__section -->\n",
       "</div> <!-- .nav-inner__search-results -->\n",
       "</div> <!-- .nav-inner__search -->\n",
       "<div class=\"nav-inner__sap-insights [ show-for-sap ]\">\n",
       "<a href=\"\">\n",
       "<img alt=\"Insights From SAP\" src=\"/media/img/sap-insights.svg\" title=\"Insights From SAP\"/>\n",
       "</a>\n",
       "</div>\n",
       "</div>\n",
       "</div>\n",
       "<div class=\"stats-container__inner\">\n",
       "<div class=\"stats-team-page\">\n",
       "<div data-team-id=\"1610612749\" ng-cloak=\"\" ng-controller=\"TeamSummaryCtrl\">\n",
       "<div class=\"breadcrumbs\">\n",
       "<ol class=\"breadcrumbs__list\" itemscope=\"\" itemtype=\"http://schema.org/BreadcrumbList\">\n",
       "<li itemprop=\"itemListElement\" itemscope=\"\" itemtype=\"http://schema.org/ListItem\">\n",
       "<a href=\"/\" itemprop=\"item\" itemscope=\"\" itemtype=\"http://schema.org/Thing\">\n",
       "<span itemprop=\"name\">Stats Home</span></a>\n",
       "<meta content=\"1\" itemprop=\"position\">\n",
       "</meta></li>\n",
       "        /\n",
       "        <li itemprop=\"itemListElement\" itemscope=\"\" itemtype=\"http://schema.org/ListItem\">\n",
       "<a href=\"/teams/\" itemprop=\"item\" itemscope=\"\" itemtype=\"http://schema.org/Thing\">\n",
       "<span itemprop=\"name\">Team</span></a>\n",
       "<meta content=\"2\" itemprop=\"position\">\n",
       "</meta></li>\n",
       "        /\n",
       "        <li itemprop=\"itemListElement\" itemscope=\"\" itemtype=\"http://schema.org/ListItem\">\n",
       "<a href=\"/team/1610612749/\" itemprop=\"item\" itemscope=\"\" itemtype=\"http://schema.org/SportsTeam\">\n",
       "<span itemprop=\"name\">Milwaukee Bucks </span></a>\n",
       "<meta content=\"3\" itemprop=\"position\">\n",
       "</meta></li>\n",
       "</ol>\n",
       "</div>\n",
       "<div>\n",
       "<div class=\"stats-team-summary\" ng-cloak=\"\">\n",
       "<div class=\"game-summary\">\n",
       "<div class=\"row collapse\">\n",
       "<div class=\"[ columns large-12 ]\">\n",
       "<div class=\"stats-team-summary__inner team-color-gradient MIL\">\n",
       "<div class=\"stats-team-summary__logo\">\n",
       "<img abbr=\"MIL\" class=\"team-logo away\" team-logo=\"\"/>\n",
       "</div>\n",
       "<div class=\"stats-team-summary__left\">\n",
       "<div class=\"stats-team-summary__city\">Milwaukee</div>\n",
       "<div class=\"stats-team-summary__name\">Bucks</div>\n",
       "</div>\n",
       "</div>\n",
       "</div>\n",
       "</div>\n",
       "<div class=\"row collapse\">\n",
       "<div class=\"columns medium-6\">\n",
       "<div class=\"row collapse stats-team-summary__sub stats-team-summary__sub-left\">\n",
       "<div class=\"columns small-3 stats-team-summary__col\">\n",
       "<a class=\"stats-team-summary__stat-link\" href=\"/teams/traditional/?sort=PTS&amp;dir=-1\">\n",
       "<span class=\"columns small-12 stats-team-summary__title\">PPG</span>\n",
       "<span class=\"columns small-12 stats-team-summary__value\">1st</span>\n",
       "</a>\n",
       "</div>\n",
       "<div class=\"columns small-3 stats-team-summary__col\">\n",
       "<a class=\"stats-team-summary__stat-link\" href=\"/teams/traditional/?sort=REB&amp;dir=-1\">\n",
       "<span class=\"columns small-12 stats-team-summary__title\">RPG</span>\n",
       "<span class=\"columns small-12 stats-team-summary__value\">1st</span>\n",
       "</a>\n",
       "</div>\n",
       "<div class=\"columns small-3 stats-team-summary__col\">\n",
       "<a class=\"stats-team-summary__stat-link\" href=\"/teams/traditional/?sort=AST&amp;dir=-1\">\n",
       "<span class=\"columns small-12 stats-team-summary__title\">APG</span>\n",
       "<span class=\"columns small-12 stats-team-summary__value\">7th</span>\n",
       "</a>\n",
       "</div>\n",
       "<div class=\"columns small-3 stats-team-summary__col\">\n",
       "<a class=\"stats-team-summary__stat-link\" href=\"/teams/opponent/?sort=OPP_PTS&amp;dir=-1\">\n",
       "<span class=\"columns small-12 stats-team-summary__title\">OPG</span>\n",
       "<span class=\"columns small-12 stats-team-summary__value\">10th</span>\n",
       "</a>\n",
       "</div>\n",
       "</div>\n",
       "</div>\n",
       "<div class=\"columns medium-6\">\n",
       "<div class=\"row collapse stats-team-summary__sub stats-team-summary__sub-right\">\n",
       "<div class=\"columns small-4 stats-team-summary__col\">\n",
       "<a class=\"stats-team-summary__stat-link\" href=\"/standings/\">\n",
       "<div class=\"columns small-12 stats-team-summary__title\"> Record</div>\n",
       "<div class=\"columns small-12 stats-team-summary__value\">\n",
       "<span>20 - 3</span>\n",
       "<span>(.870)</span>\n",
       "</div>\n",
       "</a>\n",
       "</div>\n",
       "<div class=\"columns small-4 stats-team-summary__col\">\n",
       "<a class=\"stats-team-summary__stat-link\" href=\"/standings/\">\n",
       "<div class=\"columns small-12 stats-team-summary__title\">\n",
       "<span>Eastern Conf.</span>\n",
       "</div>\n",
       "<div class=\"columns small-12 stats-team-summary__value\">\n",
       "<span>Rank #1 </span>\n",
       "<!-- <span ng-if=\"!TeamInfo.CONF_RANK\"> NR </span> -->\n",
       "</div>\n",
       "</a>\n",
       "</div>\n",
       "<div class=\"columns small-4 stats-team-summary__col\">\n",
       "<a class=\"stats-team-summary__stat-link\" href=\"/standings/#!?GroupBy=Division\">\n",
       "<div class=\"columns small-12 stats-team-summary__title\">\n",
       "<span>Central Div.</span>\n",
       "</div>\n",
       "<div class=\"columns small-12 stats-team-summary__value\">\n",
       "<span>Rank #1 </span>\n",
       "<!-- <span ng-if=\"!teamInfo.DIV_RANK\"> NR </span> -->\n",
       "</div>\n",
       "</a>\n",
       "</div>\n",
       "</div>\n",
       "</div>\n",
       "</div>\n",
       "</div>\n",
       "</div> <!-- .stats-team-summary -->\n",
       "</div>\n",
       "<div class=\"row\">\n",
       "<div class=\"columns / small-12 / section-view-overlay\">\n",
       "<nav-dropdown data-alpha=\"team\" data-beta=\"{{ pageCat }}\" data-gamma=\"{{ pageSection }}\" data-omega=\"{{ TeamAbbr }}\" data-route-id=\"{{ TeamID }}\" data-sections=\"availableStats\" data-teams=\"LeagueTeams\">\n",
       "<nav class=\"tertiary-nav\" ng-cloak=\"\">\n",
       "<section class=\"tertiary-nav-component\">\n",
       "<div class=\"toggle-nav-component__button\" ng-click=\"showOmega=!showOmega; showAlpha=false; showBeta=false; showGamma=false;\">\n",
       "<div class=\"tertiary-nav-component__team-logo\">\n",
       "<a href=\"\" ng-class=\"{ active: showOmega }\"><img abbr=\"{{omega}}\" class=\"team-logo\" team-logo=\"\"/></a>\n",
       "</div>\n",
       "</div>\n",
       "<ul class=\"tertiary-nav-component__dropdown\" ng-show=\"showOmega\">\n",
       "<li ng-repeat=\"team in teams\">\n",
       "<a class=\"team-route-link\" data-type-omega=\"{{ team.id }}\">\n",
       "<span><img abbr=\"{{team.abbr}}\" class=\"team-logo\" team-logo=\"\"/> {{ team.city }} {{ team.name }}</span>\n",
       "</a>\n",
       "</li>\n",
       "</ul>\n",
       "</section>\n",
       "<section class=\"tertiary-nav-component\">\n",
       "<div class=\"toggle-nav-component__button\" ng-click=\"showBeta=!showBeta; showOmega=false; showGamma=false;\">\n",
       "<a href=\"\" ng-class=\"{ active: showBeta }\">{{ betaText }}</a>\n",
       "</div>\n",
       "<ul class=\"tertiary-nav-component__dropdown\" ng-show=\"showBeta\">\n",
       "<li><a data-type-beta=\"profile\" ng-href=\"/team/{{ routeId }}/\"><span>Profile</span></a></li>\n",
       "<li ng-show=\"sections.stats\"><a data-type-beta=\"general\" ng-href=\"/team/{{ routeId }}/traditional\"><span>Team Stats</span></a></li>\n",
       "<li ng-show=\"sections.stats\"><a data-type-beta=\"lineups\" ng-href=\"/team/{{ routeId }}/lineups-traditional\"><span>Lineups</span></a></li>\n",
       "<li ng-show=\"sections.stats\"><a data-type-beta=\"players\" ng-href=\"/team/{{ routeId }}/players-traditional\"><span>Players</span></a></li>\n",
       "<li ng-show=\"sections.stats\"><a data-type-beta=\"onoff\" ng-href=\"/team/{{ routeId }}/onoffcourt-traditional\"><span>On/Off Court</span></a></li>\n",
       "<li ng-show=\"sections.stats\"><a data-type-beta=\"tracking\" ng-href=\"/team/{{ routeId }}/shots-dash\"><span>Tracking</span></a></li>\n",
       "<li><a data-type-beta=\"boxscores\" ng-href=\"/team/{{ routeId }}/boxscores\"><span>Box Scores</span></a></li>\n",
       "<li ng-show=\"sections.stats\"><a data-type-beta=\"adv-boxscores\" ng-href=\"/team/{{ routeId }}/boxscores-traditional\"><span>Advanced Box Scores</span></a></li>\n",
       "<li><a data-type-beta=\"seasons\" ng-href=\"/team/{{ routeId }}/seasons\"><span>Seasons</span></a></li>\n",
       "<li><a data-type-beta=\"franchise\" ng-href=\"/team/{{ routeId }}/franchise-leaders\"><span>Franchise Leaders</span></a></li>\n",
       "<li><a data-type-beta=\"yearoveryear\" ng-href=\"/team/{{ routeId }}/yearoveryear\"><span>Year Over Year</span></a></li>\n",
       "<li ng-show=\"sections.matchups\"><a data-type-beta=\"matchups\" ng-href=\"/team/{{ routeId }}/matchups/\"><span>Matchups</span></a></li>\n",
       "</ul>\n",
       "</section>\n",
       "<section class=\"tertiary-nav-component\" ng-show=\"beta==='general'\">\n",
       "<div class=\"toggle-nav-component__button\" ng-click=\"showGamma=!showGamma; showOmega=false; showBeta=false;\">\n",
       "<a href=\"\" ng-class=\"{ active: showGamma }\">{{ gammaText }}</a>\n",
       "</div>\n",
       "<ul class=\"tertiary-nav-component__dropdown\" ng-show=\"showGamma\">\n",
       "<li><a data-type-gamma=\"traditional\" ng-href=\"/team/{{ routeId }}/traditional\"><span>Traditional</span></a></li>\n",
       "<li><a data-type-gamma=\"advanced\" ng-href=\"/team/{{ routeId }}/advanced\"><span>Advanced</span></a></li>\n",
       "<li><a data-type-gamma=\"four-factors\" ng-href=\"/team/{{ routeId }}/four-factors\"><span>Four Factors</span></a></li>\n",
       "<li><a data-type-gamma=\"misc\" ng-href=\"/team/{{ routeId }}/misc\"><span>Misc</span></a></li>\n",
       "<li><a data-type-gamma=\"scoring\" ng-href=\"/team/{{ routeId }}/scoring\"><span>Scoring</span></a></li>\n",
       "<li><a data-type-gamma=\"opponent\" ng-href=\"/team/{{ routeId }}/opponent\"><span>Opponent</span></a></li>\n",
       "<li><a data-type-gamma=\"shooting\" ng-href=\"/team/{{ routeId }}/shooting\"><span>Shooting</span></a></li>\n",
       "</ul>\n",
       "</section>\n",
       "<section class=\"tertiary-nav-component\" ng-show=\"beta==='lineups'\">\n",
       "<div class=\"toggle-nav-component__button\" ng-click=\"showGamma=!showGamma; showOmega=false; showBeta=false;\">\n",
       "<a href=\"\" ng-class=\"{ active: showGamma }\">{{ gammaText }}</a>\n",
       "</div>\n",
       "<ul class=\"tertiary-nav-component__dropdown\" ng-show=\"showGamma\">\n",
       "<li><a data-type-gamma=\"lineups-traditional\" ng-href=\"/team/{{ routeId }}/lineups-traditional\"><span>Traditional</span></a></li>\n",
       "<li><a data-type-gamma=\"lineups-advanced\" ng-href=\"/team/{{ routeId }}/lineups-advanced\"><span>Advanced</span></a></li>\n",
       "<li><a data-type-gamma=\"lineups-four-factors\" ng-href=\"/team/{{ routeId }}/lineups-four-factors\"><span>Four Factors</span></a></li>\n",
       "<li><a data-type-gamma=\"lineups-misc\" ng-href=\"/team/{{ routeId }}/lineups-misc\"><span>Misc</span></a></li>\n",
       "<li><a data-type-gamma=\"lineups-scoring\" ng-href=\"/team/{{ routeId }}/lineups-scoring\"><span>Scoring</span></a></li>\n",
       "<li><a data-type-gamma=\"lineups-opponent\" ng-href=\"/team/{{ routeId }}/lineups-opponent\"><span>Opponent</span></a></li>\n",
       "</ul>\n",
       "</section>\n",
       "<section class=\"tertiary-nav-component\" ng-show=\"beta==='players'\">\n",
       "<div class=\"toggle-nav-component__button\" ng-click=\"showGamma=!showGamma; showOmega=false; showBeta=false;\">\n",
       "<a href=\"\" ng-class=\"{ active: showGamma }\">{{ gammaText }}</a>\n",
       "</div>\n",
       "<ul class=\"tertiary-nav-component__dropdown\" ng-show=\"showGamma\">\n",
       "<li><a data-type-gamma=\"players-traditional\" ng-href=\"/team/{{ routeId }}/players-traditional\"><span>Traditional</span></a></li>\n",
       "<li><a data-type-gamma=\"players-advanced\" ng-href=\"/team/{{ routeId }}/players-advanced\"><span>Advanced</span></a></li>\n",
       "<li><a data-type-gamma=\"players-misc\" ng-href=\"/team/{{ routeId }}/players-misc\"><span>Misc</span></a></li>\n",
       "<li><a data-type-gamma=\"players-scoring\" ng-href=\"/team/{{ routeId }}/players-scoring\"><span>Scoring</span></a></li>\n",
       "<li><a data-type-gamma=\"players-usage\" ng-href=\"/team/{{ routeId }}/players-usage\"><span>Usage</span></a></li>\n",
       "</ul>\n",
       "</section>\n",
       "<section class=\"tertiary-nav-component\" ng-show=\"beta==='onoff'\">\n",
       "<div class=\"toggle-nav-component__button\" ng-click=\"showGamma=!showGamma; showOmega=false; showBeta=false;\">\n",
       "<a href=\"\" ng-class=\"{ active: showGamma }\">{{ gammaText }}</a>\n",
       "</div>\n",
       "<ul class=\"tertiary-nav-component__dropdown\" ng-show=\"showGamma\">\n",
       "<li><a data-type-gamma=\"onoff-traditional\" ng-href=\"/team/{{ routeId }}/onoffcourt-traditional\"><span>Traditional</span></a></li>\n",
       "<li><a data-type-gamma=\"onoff-advanced\" ng-href=\"/team/{{ routeId }}/onoffcourt-advanced\"><span>Advanced</span></a></li>\n",
       "<li><a data-type-gamma=\"onoff-four-factors\" ng-href=\"/team/{{ routeId }}/onoffcourt-four-factors\"><span>Four Factors</span></a></li>\n",
       "<li><a data-type-gamma=\"onoff-misc\" ng-href=\"/team/{{ routeId }}/onoffcourt-misc\"><span>Misc</span></a></li>\n",
       "<li><a data-type-gamma=\"onoff-scoring\" ng-href=\"/team/{{ routeId }}/onoffcourt-scoring\"><span>Scoring</span></a></li>\n",
       "<li><a data-type-gamma=\"onoff-opponent\" ng-href=\"/team/{{ routeId }}/onoffcourt-opponent\"><span>Opponent</span></a></li>\n",
       "<li><a data-type-gamma=\"onoff-summary\" ng-href=\"/team/{{ routeId }}/onoffcourt-summary\"><span>Summary</span></a></li>\n",
       "</ul>\n",
       "</section>\n",
       "<section class=\"tertiary-nav-component\" ng-show=\"beta==='tracking'\">\n",
       "<div class=\"toggle-nav-component__button\" ng-click=\"showGamma=!showGamma; showOmega=false; showBeta=false;\">\n",
       "<a href=\"\" ng-class=\"{ active: showGamma }\">{{ gammaText }}</a>\n",
       "</div>\n",
       "<ul class=\"tertiary-nav-component__dropdown\" ng-show=\"showGamma\">\n",
       "<li><a data-type-gamma=\"shots-dash\" ng-href=\"/team/{{ routeId }}/shots-dash\"><span>Shots Dashboard</span></a></li>\n",
       "<li><a data-type-gamma=\"reb-dash\" ng-href=\"/team/{{ routeId }}/rebounds-dash\"><span>Rebounds Dashboard</span></a></li>\n",
       "<li><a data-type-gamma=\"passes-dash\" ng-href=\"/team/{{ routeId }}/passes-dash\"><span>Passes Dashboard</span></a></li>\n",
       "</ul>\n",
       "</section>\n",
       "<section class=\"tertiary-nav-component\" ng-show=\"beta==='adv-boxscores'\">\n",
       "<div class=\"toggle-nav-component__button\" ng-click=\"showGamma=!showGamma; showOmega=false; showBeta=false;\">\n",
       "<a href=\"\" ng-class=\"{ active: showGamma }\">{{ gammaText }}</a>\n",
       "</div>\n",
       "<ul class=\"tertiary-nav-component__dropdown\" ng-show=\"showGamma\">\n",
       "<li><a data-type-gamma=\"traditional\" ng-href=\"/team/{{ routeId }}/boxscores-traditional\"><span>Traditional</span></a></li>\n",
       "<li><a data-type-gamma=\"advanced\" ng-href=\"/team/{{ routeId }}/boxscores-advanced\"><span>Advanced</span></a></li>\n",
       "<li><a data-type-gamma=\"four-factors\" ng-href=\"/team/{{ routeId }}/boxscores-four-factors\"><span>Four Factors</span></a></li>\n",
       "<li><a data-type-gamma=\"misc\" ng-href=\"/team/{{ routeId }}/boxscores-misc\"><span>Misc</span></a></li>\n",
       "<li><a data-type-gamma=\"scoring\" ng-href=\"/team/{{ routeId }}/boxscores-scoring\"><span>Scoring</span></a></li>\n",
       "</ul>\n",
       "</section>\n",
       "<section class=\"tertiary-nav-component\">\n",
       "<div class=\"toggle-nav-component__caret\">\n",
       "<i aria-hidden=\"true\" class=\"fa fa-caret-down\"></i>\n",
       "</div>\n",
       "</section>\n",
       "</nav>\n",
       "<section class=\"columns / small-12 / tertiary-nav-overlay\" ng-class=\"{ active: showAlpha || showBeta || showGamma || showOmega }\"></section>\n",
       "</nav-dropdown>\n",
       "<div ng-view=\"\"></div>\n",
       "</div>\n",
       "</div>\n",
       "</div>\n",
       "</div>\n",
       "<script>\n",
       "  window.nbaStatsTeamInfo = {\"TEAM_ID\":1610612749,\"SEASON_YEAR\":\"2019-20\",\"TEAM_CITY\":\"Milwaukee\",\"TEAM_NAME\":\"Bucks\",\"TEAM_ABBREVIATION\":\"MIL\",\"TEAM_CONFERENCE\":\"East\",\"TEAM_DIVISION\":\"Central\",\"TEAM_CODE\":\"bucks\",\"W\":20,\"L\":3,\"PCT\":0.86999999999999999555910790149937383830547332763671875,\"CONF_RANK\":1,\"DIV_RANK\":1,\"MIN_YEAR\":\"1968\",\"MAX_YEAR\":\"2019\"};\n",
       "  window.nbaStatsTeamRanks = {\"LEAGUE_ID\":\"00\",\"SEASON_ID\":\"22019\",\"TEAM_ID\":1610612749,\"PTS_RANK\":1,\"PTS_PG\":121,\"REB_RANK\":1,\"REB_PG\":51.7999999999999971578290569595992565155029296875,\"AST_RANK\":7,\"AST_PG\":25.699999999999999289457264239899814128875732421875,\"OPP_PTS_RANK\":10,\"OPP_PTS_PG\":107.400000000000005684341886080801486968994140625};\n",
       "  window.nbaStatsTeamSeasons = [{\"SEASON_ID\":\"21968\"},{\"SEASON_ID\":\"21969\"},{\"SEASON_ID\":\"41969\"},{\"SEASON_ID\":\"21970\"},{\"SEASON_ID\":\"41970\"},{\"SEASON_ID\":\"21971\"},{\"SEASON_ID\":\"41971\"},{\"SEASON_ID\":\"21972\"},{\"SEASON_ID\":\"41972\"},{\"SEASON_ID\":\"21973\"},{\"SEASON_ID\":\"41973\"},{\"SEASON_ID\":\"21974\"},{\"SEASON_ID\":\"21975\"},{\"SEASON_ID\":\"41975\"},{\"SEASON_ID\":\"21976\"},{\"SEASON_ID\":\"21977\"},{\"SEASON_ID\":\"41977\"},{\"SEASON_ID\":\"21978\"},{\"SEASON_ID\":\"21979\"},{\"SEASON_ID\":\"41979\"},{\"SEASON_ID\":\"21980\"},{\"SEASON_ID\":\"41980\"},{\"SEASON_ID\":\"21981\"},{\"SEASON_ID\":\"41981\"},{\"SEASON_ID\":\"21982\"},{\"SEASON_ID\":\"41982\"},{\"SEASON_ID\":\"21983\"},{\"SEASON_ID\":\"41983\"},{\"SEASON_ID\":\"21984\"},{\"SEASON_ID\":\"41984\"},{\"SEASON_ID\":\"21985\"},{\"SEASON_ID\":\"41985\"},{\"SEASON_ID\":\"21986\"},{\"SEASON_ID\":\"41986\"},{\"SEASON_ID\":\"21987\"},{\"SEASON_ID\":\"41987\"},{\"SEASON_ID\":\"21988\"},{\"SEASON_ID\":\"41988\"},{\"SEASON_ID\":\"21989\"},{\"SEASON_ID\":\"41989\"},{\"SEASON_ID\":\"21990\"},{\"SEASON_ID\":\"41990\"},{\"SEASON_ID\":\"21991\"},{\"SEASON_ID\":\"21992\"},{\"SEASON_ID\":\"21993\"},{\"SEASON_ID\":\"21994\"},{\"SEASON_ID\":\"21995\"},{\"SEASON_ID\":\"21996\"},{\"SEASON_ID\":\"11997\"},{\"SEASON_ID\":\"21997\"},{\"SEASON_ID\":\"11998\"},{\"SEASON_ID\":\"21998\"},{\"SEASON_ID\":\"41998\"},{\"SEASON_ID\":\"11999\"},{\"SEASON_ID\":\"21999\"},{\"SEASON_ID\":\"41999\"},{\"SEASON_ID\":\"12000\"},{\"SEASON_ID\":\"22000\"},{\"SEASON_ID\":\"42000\"},{\"SEASON_ID\":\"12001\"},{\"SEASON_ID\":\"22001\"},{\"SEASON_ID\":\"12002\"},{\"SEASON_ID\":\"22002\"},{\"SEASON_ID\":\"42002\"},{\"SEASON_ID\":\"12003\"},{\"SEASON_ID\":\"22003\"},{\"SEASON_ID\":\"42003\"},{\"SEASON_ID\":\"12004\"},{\"SEASON_ID\":\"22004\"},{\"SEASON_ID\":\"12005\"},{\"SEASON_ID\":\"22005\"},{\"SEASON_ID\":\"42005\"},{\"SEASON_ID\":\"12006\"},{\"SEASON_ID\":\"22006\"},{\"SEASON_ID\":\"12007\"},{\"SEASON_ID\":\"22007\"},{\"SEASON_ID\":\"12008\"},{\"SEASON_ID\":\"22008\"},{\"SEASON_ID\":\"12009\"},{\"SEASON_ID\":\"22009\"},{\"SEASON_ID\":\"42009\"},{\"SEASON_ID\":\"12010\"},{\"SEASON_ID\":\"22010\"},{\"SEASON_ID\":\"12011\"},{\"SEASON_ID\":\"22011\"},{\"SEASON_ID\":\"12012\"},{\"SEASON_ID\":\"22012\"},{\"SEASON_ID\":\"42012\"},{\"SEASON_ID\":\"12013\"},{\"SEASON_ID\":\"22013\"},{\"SEASON_ID\":\"12014\"},{\"SEASON_ID\":\"22014\"},{\"SEASON_ID\":\"42014\"},{\"SEASON_ID\":\"12015\"},{\"SEASON_ID\":\"22015\"},{\"SEASON_ID\":\"12016\"},{\"SEASON_ID\":\"22016\"},{\"SEASON_ID\":\"42016\"},{\"SEASON_ID\":\"12017\"},{\"SEASON_ID\":\"22017\"},{\"SEASON_ID\":\"42017\"},{\"SEASON_ID\":\"12018\"},{\"SEASON_ID\":\"22018\"},{\"SEASON_ID\":\"42018\"},{\"SEASON_ID\":\"12019\"},{\"SEASON_ID\":\"22019\"}];\n",
       "</script>\n",
       "<script type=\"application/ld+json\">\n",
       "  {\"@context\":\"http:\\/\\/schema.org\",\"@type\":\"SportsTeam\",\"name\":\"Milwaukee Bucks\",\"location\":{\"type\":\"City\",\"name\":\"Milwaukee\"},\"memberOf\":[\"Eastern Conference\",\"Central Division\"]}\n",
       "</script>\n",
       "</div> <!-- .stats-container__inner -->\n",
       " <!-- .stats-container -->\n",
       "<footer>\n",
       "<div class=\"footer nba-footer\" id=\"nbaGlobalFooter\">\n",
       "<p>Copyright © <em class=\"placeholder\">2019</em> NBA Media Ventures, LLC. All rights reserved.</p>\n",
       "<p><a href=\"http://www.nba.com/news/privacy_policy.html\">Privacy Policy</a> | <a href=\"http://www.nba.com/news/termsofuse.html\">Terms of Use</a> | <a class=\"nbaAdChoices\" href=\"http://www.nba.com/adchoices\" id=\"nba_cnsnt_trst\" rel=\"noreferrer noopener\" target=\"_blank\">Ad Choices</a></p>\n",
       "<p>NBA.com is part of Turner Sports Digital, part of the Turner Sports &amp; Entertainment Digital Network.</p><img alt=\"Turner Broadcasting System, Inc. A Time Warner Company.\" src=\"//i.cdn.turner.com/nba/nba/footer/turner_logo_200x35.png\"/>\n",
       "</div> </footer>\n",
       "<script>\n",
       "      window.esi_ = {\n",
       "        country: \"US\",\n",
       "        tz: \"EST\",\n",
       "        region: \"NY\",\n",
       "        browser: \"OTHER\",\n",
       "        nbarid: \"1\",\n",
       "        nbarn: \"United States\"\n",
       "      };\n",
       "    </script>\n",
       "<script>\n",
       "    window.statsConfig = {\n",
       "      statsBuildVersion: \"4.23.0\",\n",
       "      statsBuildType: \"prod\",\n",
       "      statsBuildDate: \"2019-12-05T22:11:38.619Z\",\n",
       "      statsBranch: \"release/4.23.0\",\n",
       "      statsLeagueId: \"00\",\n",
       "      statsLeagueName: \"nba\"\n",
       "    };\n",
       "  </script>\n",
       "<script src=\"/js/data/ptsd/stats_ptsd.js\"></script>\n",
       "<script src=\"/scripts/theme.min.js\"></script>\n",
       "<!-- turner ad tag includes -->\n",
       "<script src=\"https://i.cdn.turner.com/ads/adfuel/ais/1.3/nba2-ais.js\"></script>\n",
       "<script src=\"https://i.cdn.turner.com/ads/adfuel/adfuel-1.3.5.js\"></script>\n",
       "<script type=\"text/javascript\">\n",
       "    //Set a listener for GPTRenderComplete Event\n",
       "    AdFuel.addEvent(document, 'GPTRenderComplete', function(event) {\n",
       "      if (event.detail && !event.detail.isEmpty) {\n",
       "        var detail = event.detail;\n",
       "        //If ad_bnr_atf_01 is 728x90, dispatch the global marketing slot\n",
       "        if (\n",
       "          detail.pos[0] === 'bnr_atf_01' &&\n",
       "          detail.renderedSize[0] === 728 &&\n",
       "          detail.renderedSize[1] === 90\n",
       "        ) {\n",
       "          AdFuel.queueRegistry(\n",
       "            'https://ssl.cdn.turner.com/ads/nba2/singles/nba_global_mktg.js',\n",
       "            {\n",
       "              dispatch: true,\n",
       "            }\n",
       "          );\n",
       "        }\n",
       "      }\n",
       "    });\n",
       "\n",
       "    //Dispatch nba_stats registry\n",
       "    AdFuel.queueRegistry('https://i.cdn.turner.com/ads/nba2/nba_stats.js', {\n",
       "      dispatch: true,\n",
       "    });\n",
       "</script>\n",
       "<!-- GA and page tracking scripts -->\n",
       "<script>\n",
       "  (function(i,s,o,g,r,a,m){i['GoogleAnalyticsObject']=r;i[r]=i[r]||function(){\n",
       "  (i[r].q=i[r].q||[]).push(arguments)},i[r].l=1*new Date();a=s.createElement(o),\n",
       "  m=s.getElementsByTagName(o)[0];a.async=1;a.src=g;m.parentNode.insertBefore(a,m)\n",
       "  })(window,document,'script','https://www.google-analytics.com/analytics.js','ga');\n",
       "\n",
       "  ga('create', 'UA-86643645-4', 'auto');\n",
       "  ga('send', 'pageview');\n",
       "\n",
       "</script>\n",
       "<!-- /GA and page tracking scripts -->\n",
       "<!--BEGIN QUALTRICS WEBSITE FEEDBACK SNIPPET-->\n",
       "<script type=\"text/javascript\">\n",
       "      (function(){var g=function(e,h,f,g){\n",
       "      this.get=function(a){for(var a=a+\"=\",c=document.cookie.split(\";\"),b=0,e=c.length;b<e;b++){for(var d=c[b];\" \"==d.charAt(0);)d=d.substring(1,d.length);if(0==d.indexOf(a))return d.substring(a.length,d.length)}return null};\n",
       "      this.set=function(a,c){var b=\"\",b=new Date;b.setTime(b.getTime()+6048E5);b=\"; expires=\"+b.toGMTString();document.cookie=a+\"=\"+c+b+\"; path=/; \"};\n",
       "      this.check=function(){var a=this.get(f);if(a)a=a.split(\":\");else if(100!=e)\"v\"==h&&(e=Math.random()>=e/100?0:100),a=[h,e,0],this.set(f,a.join(\":\"));else return!0;var c=a[1];if(100==c)return!0;switch(a[0]){case \"v\":return!1;case \"r\":return c=a[2]%Math.floor(100/c),a[2]++,this.set(f,a.join(\":\")),!c}return!0};\n",
       "      this.go=function(){if(this.check()){var a=document.createElement(\"script\");a.type=\"text/javascript\";a.src=g+ \"&t=\" + (new Date()).getTime();document.body&&document.body.appendChild(a)}};\n",
       "      this.start=function(){var a=this;window.addEventListener?window.addEventListener(\"load\",function(){a.go()},!1):window.attachEvent&&window.attachEvent(\"onload\",function(){a.go()})}};\n",
       "      try{(new g(100,\"r\",\"QSI_S_ZN_9nvGhFsamrqTV3L\",\"https://zn9nvghfsamrqtv3l-nbacx.siteintercept.qualtrics.com/WRSiteInterceptEngine/?Q_ZID=ZN_9nvGhFsamrqTV3L\")).start()}catch(i){}})();\n",
       "      </script><div id=\"ZN_9nvGhFsamrqTV3L\"><!--DO NOT REMOVE-CONTENTS PLACED HERE--></div>\n",
       "<!--END WEBSITE FEEDBACK SNIPPET-->\n",
       "<script type=\"text/javascript\">window.NREUM||(NREUM={});NREUM.info={\"beacon\":\"bam.nr-data.net\",\"licenseKey\":\"09f0cb5c68\",\"applicationID\":\"76210961\",\"transactionName\":\"NgcGZUJQVxYEVEJcCQ9NMUNZHk0ABFoZXAgFBxwfQFlJ\",\"queueTime\":0,\"applicationTime\":170,\"atts\":\"GkAFEwpKRBg=\",\"errorBeacon\":\"bam.nr-data.net\",\"agent\":\"\"}</script>\n"
      ]
     },
     "execution_count": 45,
     "metadata": {},
     "output_type": "execute_result"
    }
   ],
   "source": [
    "page = requests.get(\"https://stats.nba.com/team/1610612749/traditional/?sort=PF&dir=1&Season=2018-19&SeasonType=Regular%20Season\")\n",
    "soup = BeautifulSoup(page.content, 'html.parser')\n",
    "soup"
   ]
  },
  {
   "cell_type": "markdown",
   "metadata": {},
   "source": [
    "Now, we can use the `find_all` method to search for items by class or by id. In the below example, we’ll search for any `p` tag that has the class `outer-text`:"
   ]
  },
  {
   "cell_type": "code",
   "execution_count": 57,
   "metadata": {},
   "outputs": [
    {
     "data": {
      "text/plain": [
       "[]"
      ]
     },
     "execution_count": 57,
     "metadata": {},
     "output_type": "execute_result"
    }
   ],
   "source": [
    "paragraphs = soup.find_all('td', class_='first')\n",
    "paragraphs\n"
   ]
  },
  {
   "cell_type": "code",
   "execution_count": 54,
   "metadata": {},
   "outputs": [
    {
     "ename": "AttributeError",
     "evalue": "ResultSet object has no attribute 'text'. You're probably treating a list of items like a single item. Did you call find_all() when you meant to call find()?",
     "output_type": "error",
     "traceback": [
      "\u001b[0;31m---------------------------------------------------------------------------\u001b[0m",
      "\u001b[0;31mAttributeError\u001b[0m                            Traceback (most recent call last)",
      "\u001b[0;32m<ipython-input-54-7baebd0eae9b>\u001b[0m in \u001b[0;36m<module>\u001b[0;34m\u001b[0m\n\u001b[0;32m----> 1\u001b[0;31m \u001b[0mparagraphs\u001b[0m\u001b[0;34m.\u001b[0m\u001b[0mtext\u001b[0m\u001b[0;34m\u001b[0m\u001b[0;34m\u001b[0m\u001b[0m\n\u001b[0m",
      "\u001b[0;32m~/opt/anaconda3/lib/python3.7/site-packages/bs4/element.py\u001b[0m in \u001b[0;36m__getattr__\u001b[0;34m(self, key)\u001b[0m\n\u001b[1;32m   1576\u001b[0m     \u001b[0;32mdef\u001b[0m \u001b[0m__getattr__\u001b[0m\u001b[0;34m(\u001b[0m\u001b[0mself\u001b[0m\u001b[0;34m,\u001b[0m \u001b[0mkey\u001b[0m\u001b[0;34m)\u001b[0m\u001b[0;34m:\u001b[0m\u001b[0;34m\u001b[0m\u001b[0;34m\u001b[0m\u001b[0m\n\u001b[1;32m   1577\u001b[0m         raise AttributeError(\n\u001b[0;32m-> 1578\u001b[0;31m             \u001b[0;34m\"ResultSet object has no attribute '%s'. You're probably treating a list of items like a single item. Did you call find_all() when you meant to call find()?\"\u001b[0m \u001b[0;34m%\u001b[0m \u001b[0mkey\u001b[0m\u001b[0;34m\u001b[0m\u001b[0;34m\u001b[0m\u001b[0m\n\u001b[0m\u001b[1;32m   1579\u001b[0m         )\n",
      "\u001b[0;31mAttributeError\u001b[0m: ResultSet object has no attribute 'text'. You're probably treating a list of items like a single item. Did you call find_all() when you meant to call find()?"
     ]
    }
   ],
   "source": [
    "paragraphs.text"
   ]
  },
  {
   "cell_type": "code",
   "execution_count": 37,
   "metadata": {},
   "outputs": [],
   "source": [
    "for paragraph in paragraphs:\n",
    "    print(paragraph.get_text())"
   ]
  },
  {
   "cell_type": "markdown",
   "metadata": {},
   "source": [
    "In the below example, we’ll look for any tag that has the class `outer-text`:\n",
    "\n"
   ]
  },
  {
   "cell_type": "code",
   "execution_count": 19,
   "metadata": {},
   "outputs": [
    {
     "data": {
      "text/plain": [
       "[]"
      ]
     },
     "execution_count": 19,
     "metadata": {},
     "output_type": "execute_result"
    }
   ],
   "source": [
    "soup.find_all(class_=\"outer-text\")\n"
   ]
  },
  {
   "cell_type": "markdown",
   "metadata": {},
   "source": [
    "We can also search for elements by `id`:\n"
   ]
  },
  {
   "cell_type": "code",
   "execution_count": 20,
   "metadata": {},
   "outputs": [
    {
     "data": {
      "text/plain": [
       "[]"
      ]
     },
     "execution_count": 20,
     "metadata": {},
     "output_type": "execute_result"
    }
   ],
   "source": [
    "soup.find_all(id=\"first\")\n"
   ]
  },
  {
   "cell_type": "markdown",
   "metadata": {},
   "source": [
    "### Using CSS Selectors\n",
    "\n",
    "\n",
    "You can also search for items using CSS selectors. These selectors are how the CSS language allows developers to specify HTML tags to style. Here are some examples:\n",
    "\n",
    "- *p a* — finds all a tags inside of a p tag.\n",
    "- *body p a* — finds all a tags inside of a p tag inside of a body tag.\n",
    "- *html body* — finds all body tags inside of an html tag.\n",
    "- *p.outer-text* — finds all p tags with a class of outer-text.\n",
    "- *p#first* — finds all p tags with an id of first.\n",
    "- *body p.outer-text* — finds any p tags with a class of outer-text inside of a body tag."
   ]
  },
  {
   "cell_type": "markdown",
   "metadata": {},
   "source": [
    "`BeautifulSoup` objects support searching a page via CSS selectors using the `select` method. We can use CSS selectors to find all the `p` tags in our page that are inside of a `div` like this:"
   ]
  },
  {
   "cell_type": "code",
   "execution_count": 25,
   "metadata": {},
   "outputs": [
    {
     "data": {
      "text/plain": [
       "[<p class=\"inner-text first-item\" id=\"first\">\n",
       "                 First paragraph.\n",
       "             </p>, <p class=\"inner-text\">\n",
       "                 Second paragraph.\n",
       "             </p>]"
      ]
     },
     "execution_count": 25,
     "metadata": {},
     "output_type": "execute_result"
    }
   ],
   "source": [
    "soup.select(\"div p\")\n"
   ]
  },
  {
   "cell_type": "markdown",
   "metadata": {},
   "source": [
    "Note that the `select` method above returns a list of `BeautifulSoup` objects, just like `find` and `find_all`."
   ]
  },
  {
   "cell_type": "markdown",
   "metadata": {},
   "source": [
    "## Your Turn: Downloading weather data\n"
   ]
  },
  {
   "cell_type": "markdown",
   "metadata": {},
   "source": [
    "We now know enough to proceed with extracting information about the local weather from the National Weather Service website. The first step is to find the page we want to scrape. We’ll extract weather information about downtown San Francisco from this [page](https://forecast.weather.gov/MapClick.php?lat=37.7772&lon=-122.4168#.XJJFuhNKhTY)."
   ]
  },
  {
   "cell_type": "markdown",
   "metadata": {},
   "source": [
    "We can then scroll up in the elements panel to find the “outermost” element that contains all of the text that corresponds to the extended forecasts. In this case, it’s a `div` tag with the id `seven-day-forecast`:"
   ]
  },
  {
   "cell_type": "markdown",
   "metadata": {},
   "source": [
    "We now know enough to download the page and start parsing it. In the below code, we:\n",
    "\n",
    "1. Download the web page containing the forecast.\n",
    "2. Create a `BeautifulSoup` class to parse the page.\n",
    "3. Find the `div` with id `seven-day-forecast`, and assign to `seven_day`\n",
    "4. Inside `seven_day`, find each individual forecast item.\n",
    "5. Extract and print the first forecast item."
   ]
  },
  {
   "cell_type": "code",
   "execution_count": 26,
   "metadata": {},
   "outputs": [
    {
     "name": "stdout",
     "output_type": "stream",
     "text": [
      "\n",
      "Today\n",
      "SunnyHigh: 69 °F\n"
     ]
    }
   ],
   "source": [
    "# 1\n",
    "page = requests.get(\"http://forecast.weather.gov/MapClick.php?lat=37.7772&lon=-122.4168\")\n",
    "\n",
    "#2\n",
    "soup = BeautifulSoup(____.____, 'html.parser')\n",
    "\n",
    "#3\n",
    "____ = soup.____(id=\"seven-day-forecast-container\")\n",
    "\n",
    "#4\n",
    "forecast_items = seven_day.____(class_=\"tombstone-container\")\n",
    "\n",
    "#5\n",
    "first = ____[____]\n",
    "print(first.get_text())"
   ]
  },
  {
   "cell_type": "markdown",
   "metadata": {},
   "source": [
    "### Extracting information from the page\n",
    "As you can see, inside the forecast item `tonight` is all the information we want. There are `4` pieces of information we can extract:\n",
    "\n",
    "- The name of the forecast item — in this case, **Tonight**.\n",
    "- The description of the conditions — this is stored in the `title` property of `img`.\n",
    "- A short description of the conditions — in this case, **Mostly Clear**.\n",
    "- The temperature low — in this case, **49 degrees**.\n",
    "\n",
    "We’ll extract the name of the forecast item, the short description, and the temperature first, since they’re all similar:"
   ]
  },
  {
   "cell_type": "markdown",
   "metadata": {},
   "source": [
    "Now, we can extract the `title` attribute from the `img` tag. To do this, we just treat the `BeautifulSoup` object like a dictionary, and pass in the attribute we want as a key:"
   ]
  },
  {
   "cell_type": "code",
   "execution_count": null,
   "metadata": {},
   "outputs": [],
   "source": [
    "# your code here"
   ]
  },
  {
   "cell_type": "markdown",
   "metadata": {},
   "source": [
    "### Extracting all the information from the page\n",
    "Now that we know how to extract each individual piece of information, we can combine our knowledge with css selectors and list comprehensions to extract everything at once.\n",
    "\n",
    "In the below code, we:\n",
    "\n",
    "- Select all items with the class period-name inside an item with the class tombstone-container in seven_day.\n",
    "- Use a list comprehension to call the get_text method on each BeautifulSoup object."
   ]
  },
  {
   "cell_type": "code",
   "execution_count": null,
   "metadata": {},
   "outputs": [],
   "source": [
    "period_tags = seven_day.select(\".tombstone-container .period-name\")\n",
    "periods = [pt.get_text() for pt in period_tags]\n",
    "periods"
   ]
  },
  {
   "cell_type": "markdown",
   "metadata": {},
   "source": [
    "As you can see above, our technique gets us each of the period names, in order. Now you can apply the same technique to get the other 3 fields:"
   ]
  },
  {
   "cell_type": "code",
   "execution_count": null,
   "metadata": {},
   "outputs": [],
   "source": [
    "#your code here\n",
    "\n"
   ]
  }
 ],
 "metadata": {
  "kernelspec": {
   "display_name": "Python 3",
   "language": "python",
   "name": "python3"
  },
  "language_info": {
   "codemirror_mode": {
    "name": "ipython",
    "version": 3
   },
   "file_extension": ".py",
   "mimetype": "text/x-python",
   "name": "python",
   "nbconvert_exporter": "python",
   "pygments_lexer": "ipython3",
   "version": "3.7.4"
  }
 },
 "nbformat": 4,
 "nbformat_minor": 2
}
